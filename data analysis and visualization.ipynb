{
 "cells": [
  {
   "cell_type": "markdown",
   "metadata": {
    "colab_type": "text",
    "id": "CnrmKI5VKDjD"
   },
   "source": [
    "# Data analysis"
   ]
  },
  {
   "cell_type": "code",
   "execution_count": 0,
   "metadata": {
    "colab": {},
    "colab_type": "code",
    "id": "ndC_NuyWKDjH"
   },
   "outputs": [],
   "source": [
    "import numpy as np\n",
    "import pandas as pd\n",
    "import matplotlib.pyplot as plt\n",
    "import seaborn as sns\n",
    "import warnings\n",
    "warnings.simplefilter(action='ignore', category=FutureWarning)"
   ]
  },
  {
   "cell_type": "code",
   "execution_count": 0,
   "metadata": {
    "colab": {},
    "colab_type": "code",
    "id": "UdDPS-dsKDjO"
   },
   "outputs": [],
   "source": [
    "cdf = pd.read_excel(\"Infant Child Data.xlsx\",\"childbirth\")"
   ]
  },
  {
   "cell_type": "code",
   "execution_count": 0,
   "metadata": {
    "colab": {},
    "colab_type": "code",
    "id": "DQE10CgDKDjS",
    "outputId": "a3910634-30c4-47a5-ef65-dd3776fab554",
    "scrolled": true
   },
   "outputs": [
    {
     "data": {
      "text/html": [
       "<div>\n",
       "<style scoped>\n",
       "    .dataframe tbody tr th:only-of-type {\n",
       "        vertical-align: middle;\n",
       "    }\n",
       "\n",
       "    .dataframe tbody tr th {\n",
       "        vertical-align: top;\n",
       "    }\n",
       "\n",
       "    .dataframe thead th {\n",
       "        text-align: right;\n",
       "    }\n",
       "</style>\n",
       "<table border=\"1\" class=\"dataframe\">\n",
       "  <thead>\n",
       "    <tr style=\"text-align: right;\">\n",
       "      <th></th>\n",
       "      <th>BabyId</th>\n",
       "      <th>FirsttimeParent</th>\n",
       "      <th>Crying date</th>\n",
       "      <th>Crying time</th>\n",
       "      <th>Crying seconds</th>\n",
       "      <th>Feeding date</th>\n",
       "      <th>Feeding time</th>\n",
       "      <th>Bottle amount</th>\n",
       "      <th>PumpingDate</th>\n",
       "      <th>PumpingTimePumpingLeftPumpingRight</th>\n",
       "      <th>Pumping Left</th>\n",
       "      <th>PumpingRight</th>\n",
       "      <th>SleepingDate</th>\n",
       "      <th>SleepingTime</th>\n",
       "      <th>SleepingSecond</th>\n",
       "    </tr>\n",
       "  </thead>\n",
       "  <tbody>\n",
       "    <tr>\n",
       "      <th>0</th>\n",
       "      <td>HPT2_NR_16</td>\n",
       "      <td>1</td>\n",
       "      <td>2015-08-05</td>\n",
       "      <td>20:31:47</td>\n",
       "      <td>900.0</td>\n",
       "      <td>2015-08-05</td>\n",
       "      <td>20:31:47</td>\n",
       "      <td>180.0</td>\n",
       "      <td>2015-08-05</td>\n",
       "      <td>20:31:47</td>\n",
       "      <td>40.0</td>\n",
       "      <td>30.0</td>\n",
       "      <td>2015-08-05</td>\n",
       "      <td>20:31:47</td>\n",
       "      <td>5153.979</td>\n",
       "    </tr>\n",
       "    <tr>\n",
       "      <th>1</th>\n",
       "      <td>HPT2_NR_16</td>\n",
       "      <td>1</td>\n",
       "      <td>2015-08-05</td>\n",
       "      <td>23:33:46</td>\n",
       "      <td>600.0</td>\n",
       "      <td>2015-08-05</td>\n",
       "      <td>23:33:46</td>\n",
       "      <td>180.0</td>\n",
       "      <td>2015-08-05</td>\n",
       "      <td>23:33:46</td>\n",
       "      <td>50.0</td>\n",
       "      <td>35.0</td>\n",
       "      <td>2015-08-05</td>\n",
       "      <td>23:33:46</td>\n",
       "      <td>33365.110</td>\n",
       "    </tr>\n",
       "    <tr>\n",
       "      <th>2</th>\n",
       "      <td>HPT2_NR_16</td>\n",
       "      <td>1</td>\n",
       "      <td>2015-08-06</td>\n",
       "      <td>10:20:00</td>\n",
       "      <td>916.0</td>\n",
       "      <td>2015-08-06</td>\n",
       "      <td>10:20:00</td>\n",
       "      <td>180.0</td>\n",
       "      <td>2015-08-06</td>\n",
       "      <td>10:20:00</td>\n",
       "      <td>NaN</td>\n",
       "      <td>NaN</td>\n",
       "      <td>2015-08-06</td>\n",
       "      <td>10:20:00</td>\n",
       "      <td>2100.000</td>\n",
       "    </tr>\n",
       "    <tr>\n",
       "      <th>3</th>\n",
       "      <td>HPT2_NR_16</td>\n",
       "      <td>1</td>\n",
       "      <td>2015-08-06</td>\n",
       "      <td>11:30:00</td>\n",
       "      <td>300.0</td>\n",
       "      <td>2015-08-06</td>\n",
       "      <td>11:30:00</td>\n",
       "      <td>35.0</td>\n",
       "      <td>2015-08-06</td>\n",
       "      <td>11:30:00</td>\n",
       "      <td>NaN</td>\n",
       "      <td>NaN</td>\n",
       "      <td>2015-08-06</td>\n",
       "      <td>11:30:00</td>\n",
       "      <td>1200.000</td>\n",
       "    </tr>\n",
       "    <tr>\n",
       "      <th>4</th>\n",
       "      <td>HPT2_NR_16</td>\n",
       "      <td>1</td>\n",
       "      <td>2015-08-06</td>\n",
       "      <td>12:15:00</td>\n",
       "      <td>600.0</td>\n",
       "      <td>2015-08-06</td>\n",
       "      <td>12:15:00</td>\n",
       "      <td>180.0</td>\n",
       "      <td>2015-08-06</td>\n",
       "      <td>12:15:00</td>\n",
       "      <td>NaN</td>\n",
       "      <td>NaN</td>\n",
       "      <td>2015-08-06</td>\n",
       "      <td>12:15:00</td>\n",
       "      <td>4800.000</td>\n",
       "    </tr>\n",
       "  </tbody>\n",
       "</table>\n",
       "</div>"
      ],
      "text/plain": [
       "       BabyId  FirsttimeParent Crying date Crying time  Crying seconds  \\\n",
       "0  HPT2_NR_16                1  2015-08-05    20:31:47           900.0   \n",
       "1  HPT2_NR_16                1  2015-08-05    23:33:46           600.0   \n",
       "2  HPT2_NR_16                1  2015-08-06    10:20:00           916.0   \n",
       "3  HPT2_NR_16                1  2015-08-06    11:30:00           300.0   \n",
       "4  HPT2_NR_16                1  2015-08-06    12:15:00           600.0   \n",
       "\n",
       "  Feeding date Feeding time  Bottle amount PumpingDate  \\\n",
       "0   2015-08-05     20:31:47          180.0  2015-08-05   \n",
       "1   2015-08-05     23:33:46          180.0  2015-08-05   \n",
       "2   2015-08-06     10:20:00          180.0  2015-08-06   \n",
       "3   2015-08-06     11:30:00           35.0  2015-08-06   \n",
       "4   2015-08-06     12:15:00          180.0  2015-08-06   \n",
       "\n",
       "  PumpingTimePumpingLeftPumpingRight  Pumping Left  PumpingRight SleepingDate  \\\n",
       "0                           20:31:47          40.0          30.0   2015-08-05   \n",
       "1                           23:33:46          50.0          35.0   2015-08-05   \n",
       "2                           10:20:00           NaN           NaN   2015-08-06   \n",
       "3                           11:30:00           NaN           NaN   2015-08-06   \n",
       "4                           12:15:00           NaN           NaN   2015-08-06   \n",
       "\n",
       "  SleepingTime  SleepingSecond  \n",
       "0     20:31:47        5153.979  \n",
       "1     23:33:46       33365.110  \n",
       "2     10:20:00        2100.000  \n",
       "3     11:30:00        1200.000  \n",
       "4     12:15:00        4800.000  "
      ]
     },
     "execution_count": 317,
     "metadata": {
      "tags": []
     },
     "output_type": "execute_result"
    }
   ],
   "source": [
    "cdf.head()"
   ]
  },
  {
   "cell_type": "markdown",
   "metadata": {
    "colab_type": "text",
    "id": "h_rsJMCcKDja"
   },
   "source": [
    "# Data Wrangling and Data Cleaning"
   ]
  },
  {
   "cell_type": "code",
   "execution_count": 0,
   "metadata": {
    "colab": {},
    "colab_type": "code",
    "id": "M7A0FHYxKDjc",
    "outputId": "7cbf8756-83c3-4b96-ce9e-13997cb5e2a0"
   },
   "outputs": [
    {
     "name": "stdout",
     "output_type": "stream",
     "text": [
      "<class 'pandas.core.frame.DataFrame'>\n",
      "RangeIndex: 1773 entries, 0 to 1772\n",
      "Data columns (total 15 columns):\n",
      "BabyId                                1773 non-null object\n",
      "FirsttimeParent                       1773 non-null int64\n",
      "Crying date                           1773 non-null datetime64[ns]\n",
      "Crying time                           1773 non-null object\n",
      "Crying seconds                        73 non-null float64\n",
      "Feeding date                          1773 non-null datetime64[ns]\n",
      "Feeding time                          1773 non-null object\n",
      "Bottle amount                         1044 non-null float64\n",
      "PumpingDate                           1773 non-null datetime64[ns]\n",
      "PumpingTimePumpingLeftPumpingRight    1773 non-null object\n",
      "Pumping Left                          61 non-null float64\n",
      "PumpingRight                          68 non-null float64\n",
      "SleepingDate                          1773 non-null datetime64[ns]\n",
      "SleepingTime                          1773 non-null object\n",
      "SleepingSecond                        996 non-null float64\n",
      "dtypes: datetime64[ns](4), float64(5), int64(1), object(5)\n",
      "memory usage: 207.9+ KB\n"
     ]
    }
   ],
   "source": [
    "cdf.info()"
   ]
  },
  {
   "cell_type": "code",
   "execution_count": 0,
   "metadata": {
    "colab": {},
    "colab_type": "code",
    "id": "2iGUo7fxKDjg",
    "outputId": "b3ab081d-8987-4b28-9b98-8117ea29f898"
   },
   "outputs": [
    {
     "data": {
      "text/plain": [
       "BabyId                                   0\n",
       "FirsttimeParent                          0\n",
       "Crying date                              0\n",
       "Crying time                              0\n",
       "Crying seconds                        1700\n",
       "Feeding date                             0\n",
       "Feeding time                             0\n",
       "Bottle amount                          729\n",
       "PumpingDate                              0\n",
       "PumpingTimePumpingLeftPumpingRight       0\n",
       "Pumping Left                          1712\n",
       "PumpingRight                          1705\n",
       "SleepingDate                             0\n",
       "SleepingTime                             0\n",
       "SleepingSecond                         777\n",
       "dtype: int64"
      ]
     },
     "execution_count": 319,
     "metadata": {
      "tags": []
     },
     "output_type": "execute_result"
    }
   ],
   "source": [
    "cdf.isnull().sum()"
   ]
  },
  {
   "cell_type": "code",
   "execution_count": 0,
   "metadata": {
    "colab": {},
    "colab_type": "code",
    "id": "pQS4aaEtKDjj",
    "outputId": "48728606-aacd-409c-d39c-a357c5bdab95"
   },
   "outputs": [
    {
     "data": {
      "text/html": [
       "<div>\n",
       "<style scoped>\n",
       "    .dataframe tbody tr th:only-of-type {\n",
       "        vertical-align: middle;\n",
       "    }\n",
       "\n",
       "    .dataframe tbody tr th {\n",
       "        vertical-align: top;\n",
       "    }\n",
       "\n",
       "    .dataframe thead th {\n",
       "        text-align: right;\n",
       "    }\n",
       "</style>\n",
       "<table border=\"1\" class=\"dataframe\">\n",
       "  <thead>\n",
       "    <tr style=\"text-align: right;\">\n",
       "      <th></th>\n",
       "      <th>BabyId</th>\n",
       "      <th>FirsttimeParent</th>\n",
       "      <th>Crying date</th>\n",
       "      <th>Crying time</th>\n",
       "      <th>Crying seconds</th>\n",
       "      <th>Feeding date</th>\n",
       "      <th>Feeding time</th>\n",
       "      <th>Bottle amount</th>\n",
       "      <th>PumpingDate</th>\n",
       "      <th>PumpingTime</th>\n",
       "      <th>Pumping Left</th>\n",
       "      <th>PumpingRight</th>\n",
       "      <th>SleepingDate</th>\n",
       "      <th>SleepingTime</th>\n",
       "      <th>SleepingSecond</th>\n",
       "    </tr>\n",
       "  </thead>\n",
       "  <tbody>\n",
       "    <tr>\n",
       "      <th>0</th>\n",
       "      <td>HPT2_NR_16</td>\n",
       "      <td>1</td>\n",
       "      <td>2015-08-05</td>\n",
       "      <td>20:31:47</td>\n",
       "      <td>900.0</td>\n",
       "      <td>2015-08-05</td>\n",
       "      <td>20:31:47</td>\n",
       "      <td>180.0</td>\n",
       "      <td>2015-08-05</td>\n",
       "      <td>20:31:47</td>\n",
       "      <td>40.0</td>\n",
       "      <td>30.0</td>\n",
       "      <td>2015-08-05</td>\n",
       "      <td>20:31:47</td>\n",
       "      <td>5153.9790</td>\n",
       "    </tr>\n",
       "    <tr>\n",
       "      <th>1</th>\n",
       "      <td>HPT2_NR_16</td>\n",
       "      <td>1</td>\n",
       "      <td>2015-08-05</td>\n",
       "      <td>23:33:46</td>\n",
       "      <td>600.0</td>\n",
       "      <td>2015-08-05</td>\n",
       "      <td>23:33:46</td>\n",
       "      <td>180.0</td>\n",
       "      <td>2015-08-05</td>\n",
       "      <td>23:33:46</td>\n",
       "      <td>50.0</td>\n",
       "      <td>35.0</td>\n",
       "      <td>2015-08-05</td>\n",
       "      <td>23:33:46</td>\n",
       "      <td>33365.1100</td>\n",
       "    </tr>\n",
       "    <tr>\n",
       "      <th>2</th>\n",
       "      <td>HPT2_NR_16</td>\n",
       "      <td>1</td>\n",
       "      <td>2015-08-06</td>\n",
       "      <td>10:20:00</td>\n",
       "      <td>916.0</td>\n",
       "      <td>2015-08-06</td>\n",
       "      <td>10:20:00</td>\n",
       "      <td>180.0</td>\n",
       "      <td>2015-08-06</td>\n",
       "      <td>10:20:00</td>\n",
       "      <td>NaN</td>\n",
       "      <td>NaN</td>\n",
       "      <td>2015-08-06</td>\n",
       "      <td>10:20:00</td>\n",
       "      <td>2100.0000</td>\n",
       "    </tr>\n",
       "    <tr>\n",
       "      <th>3</th>\n",
       "      <td>HPT2_NR_16</td>\n",
       "      <td>1</td>\n",
       "      <td>2015-08-06</td>\n",
       "      <td>11:30:00</td>\n",
       "      <td>300.0</td>\n",
       "      <td>2015-08-06</td>\n",
       "      <td>11:30:00</td>\n",
       "      <td>35.0</td>\n",
       "      <td>2015-08-06</td>\n",
       "      <td>11:30:00</td>\n",
       "      <td>NaN</td>\n",
       "      <td>NaN</td>\n",
       "      <td>2015-08-06</td>\n",
       "      <td>11:30:00</td>\n",
       "      <td>1200.0000</td>\n",
       "    </tr>\n",
       "    <tr>\n",
       "      <th>4</th>\n",
       "      <td>HPT2_NR_16</td>\n",
       "      <td>1</td>\n",
       "      <td>2015-08-06</td>\n",
       "      <td>12:15:00</td>\n",
       "      <td>600.0</td>\n",
       "      <td>2015-08-06</td>\n",
       "      <td>12:15:00</td>\n",
       "      <td>180.0</td>\n",
       "      <td>2015-08-06</td>\n",
       "      <td>12:15:00</td>\n",
       "      <td>NaN</td>\n",
       "      <td>NaN</td>\n",
       "      <td>2015-08-06</td>\n",
       "      <td>12:15:00</td>\n",
       "      <td>4800.0000</td>\n",
       "    </tr>\n",
       "    <tr>\n",
       "      <th>5</th>\n",
       "      <td>HPT2_NR_16</td>\n",
       "      <td>1</td>\n",
       "      <td>2015-08-06</td>\n",
       "      <td>17:45:00</td>\n",
       "      <td>NaN</td>\n",
       "      <td>2015-08-06</td>\n",
       "      <td>17:45:00</td>\n",
       "      <td>180.0</td>\n",
       "      <td>2015-08-06</td>\n",
       "      <td>17:45:00</td>\n",
       "      <td>NaN</td>\n",
       "      <td>NaN</td>\n",
       "      <td>2015-08-06</td>\n",
       "      <td>17:45:00</td>\n",
       "      <td>2100.0000</td>\n",
       "    </tr>\n",
       "    <tr>\n",
       "      <th>6</th>\n",
       "      <td>HPT2_NR_16</td>\n",
       "      <td>1</td>\n",
       "      <td>2015-08-06</td>\n",
       "      <td>19:20:00</td>\n",
       "      <td>NaN</td>\n",
       "      <td>2015-08-06</td>\n",
       "      <td>19:20:00</td>\n",
       "      <td>180.0</td>\n",
       "      <td>2015-08-06</td>\n",
       "      <td>19:20:00</td>\n",
       "      <td>NaN</td>\n",
       "      <td>NaN</td>\n",
       "      <td>2015-08-06</td>\n",
       "      <td>19:20:00</td>\n",
       "      <td>1500.0000</td>\n",
       "    </tr>\n",
       "    <tr>\n",
       "      <th>7</th>\n",
       "      <td>HPT2_NR_16</td>\n",
       "      <td>1</td>\n",
       "      <td>2015-08-06</td>\n",
       "      <td>19:45:00</td>\n",
       "      <td>NaN</td>\n",
       "      <td>2015-08-06</td>\n",
       "      <td>19:45:00</td>\n",
       "      <td>180.0</td>\n",
       "      <td>2015-08-06</td>\n",
       "      <td>19:45:00</td>\n",
       "      <td>NaN</td>\n",
       "      <td>NaN</td>\n",
       "      <td>2015-08-06</td>\n",
       "      <td>19:45:00</td>\n",
       "      <td>1520.0000</td>\n",
       "    </tr>\n",
       "    <tr>\n",
       "      <th>8</th>\n",
       "      <td>HPT2_NR_16</td>\n",
       "      <td>1</td>\n",
       "      <td>2015-08-06</td>\n",
       "      <td>22:30:00</td>\n",
       "      <td>NaN</td>\n",
       "      <td>2015-08-06</td>\n",
       "      <td>22:30:00</td>\n",
       "      <td>180.0</td>\n",
       "      <td>2015-08-06</td>\n",
       "      <td>22:30:00</td>\n",
       "      <td>NaN</td>\n",
       "      <td>NaN</td>\n",
       "      <td>2015-08-06</td>\n",
       "      <td>22:30:00</td>\n",
       "      <td>4200.0000</td>\n",
       "    </tr>\n",
       "    <tr>\n",
       "      <th>9</th>\n",
       "      <td>HPT2_NR_16</td>\n",
       "      <td>1</td>\n",
       "      <td>2015-08-07</td>\n",
       "      <td>00:22:03</td>\n",
       "      <td>NaN</td>\n",
       "      <td>2015-08-07</td>\n",
       "      <td>00:22:03</td>\n",
       "      <td>180.0</td>\n",
       "      <td>2015-08-07</td>\n",
       "      <td>00:22:03</td>\n",
       "      <td>NaN</td>\n",
       "      <td>NaN</td>\n",
       "      <td>2015-08-07</td>\n",
       "      <td>00:22:03</td>\n",
       "      <td>32249.3900</td>\n",
       "    </tr>\n",
       "    <tr>\n",
       "      <th>10</th>\n",
       "      <td>HPT2_NR_16</td>\n",
       "      <td>1</td>\n",
       "      <td>2015-08-07</td>\n",
       "      <td>11:30:00</td>\n",
       "      <td>NaN</td>\n",
       "      <td>2015-08-07</td>\n",
       "      <td>11:30:00</td>\n",
       "      <td>180.0</td>\n",
       "      <td>2015-08-07</td>\n",
       "      <td>11:30:00</td>\n",
       "      <td>NaN</td>\n",
       "      <td>NaN</td>\n",
       "      <td>2015-08-07</td>\n",
       "      <td>11:30:00</td>\n",
       "      <td>1200.0000</td>\n",
       "    </tr>\n",
       "    <tr>\n",
       "      <th>11</th>\n",
       "      <td>HPT2_NR_16</td>\n",
       "      <td>1</td>\n",
       "      <td>2015-08-07</td>\n",
       "      <td>12:15:38</td>\n",
       "      <td>NaN</td>\n",
       "      <td>2015-08-07</td>\n",
       "      <td>12:15:38</td>\n",
       "      <td>180.0</td>\n",
       "      <td>2015-08-07</td>\n",
       "      <td>12:15:38</td>\n",
       "      <td>NaN</td>\n",
       "      <td>NaN</td>\n",
       "      <td>2015-08-07</td>\n",
       "      <td>12:15:38</td>\n",
       "      <td>2700.0000</td>\n",
       "    </tr>\n",
       "    <tr>\n",
       "      <th>12</th>\n",
       "      <td>HPT2_NR_16</td>\n",
       "      <td>1</td>\n",
       "      <td>2015-08-07</td>\n",
       "      <td>15:01:06</td>\n",
       "      <td>NaN</td>\n",
       "      <td>2015-08-07</td>\n",
       "      <td>15:01:06</td>\n",
       "      <td>180.0</td>\n",
       "      <td>2015-08-07</td>\n",
       "      <td>15:01:06</td>\n",
       "      <td>NaN</td>\n",
       "      <td>NaN</td>\n",
       "      <td>2015-08-07</td>\n",
       "      <td>15:01:06</td>\n",
       "      <td>3601.8500</td>\n",
       "    </tr>\n",
       "    <tr>\n",
       "      <th>13</th>\n",
       "      <td>HPT2_NR_16</td>\n",
       "      <td>1</td>\n",
       "      <td>2015-08-07</td>\n",
       "      <td>18:12:21</td>\n",
       "      <td>NaN</td>\n",
       "      <td>2015-08-07</td>\n",
       "      <td>18:12:21</td>\n",
       "      <td>180.0</td>\n",
       "      <td>2015-08-07</td>\n",
       "      <td>18:12:21</td>\n",
       "      <td>NaN</td>\n",
       "      <td>NaN</td>\n",
       "      <td>2015-08-07</td>\n",
       "      <td>18:12:21</td>\n",
       "      <td>2424.9430</td>\n",
       "    </tr>\n",
       "    <tr>\n",
       "      <th>14</th>\n",
       "      <td>HPT2_NR_16</td>\n",
       "      <td>1</td>\n",
       "      <td>2015-08-07</td>\n",
       "      <td>20:56:39</td>\n",
       "      <td>NaN</td>\n",
       "      <td>2015-08-07</td>\n",
       "      <td>20:56:39</td>\n",
       "      <td>180.0</td>\n",
       "      <td>2015-08-07</td>\n",
       "      <td>20:56:39</td>\n",
       "      <td>NaN</td>\n",
       "      <td>NaN</td>\n",
       "      <td>2015-08-07</td>\n",
       "      <td>20:56:39</td>\n",
       "      <td>2040.0000</td>\n",
       "    </tr>\n",
       "    <tr>\n",
       "      <th>15</th>\n",
       "      <td>HPT2_NR_16</td>\n",
       "      <td>1</td>\n",
       "      <td>2015-08-07</td>\n",
       "      <td>23:30:00</td>\n",
       "      <td>NaN</td>\n",
       "      <td>2015-08-07</td>\n",
       "      <td>23:30:00</td>\n",
       "      <td>180.0</td>\n",
       "      <td>2015-08-07</td>\n",
       "      <td>23:30:00</td>\n",
       "      <td>NaN</td>\n",
       "      <td>NaN</td>\n",
       "      <td>2015-08-07</td>\n",
       "      <td>23:30:00</td>\n",
       "      <td>36000.0000</td>\n",
       "    </tr>\n",
       "    <tr>\n",
       "      <th>16</th>\n",
       "      <td>HPT2_NR_16</td>\n",
       "      <td>1</td>\n",
       "      <td>2015-08-08</td>\n",
       "      <td>11:40:00</td>\n",
       "      <td>NaN</td>\n",
       "      <td>2015-08-08</td>\n",
       "      <td>11:40:00</td>\n",
       "      <td>180.0</td>\n",
       "      <td>2015-08-08</td>\n",
       "      <td>11:40:00</td>\n",
       "      <td>NaN</td>\n",
       "      <td>NaN</td>\n",
       "      <td>2015-08-08</td>\n",
       "      <td>11:40:00</td>\n",
       "      <td>1800.0000</td>\n",
       "    </tr>\n",
       "    <tr>\n",
       "      <th>17</th>\n",
       "      <td>HPT2_NR_16</td>\n",
       "      <td>1</td>\n",
       "      <td>2015-08-08</td>\n",
       "      <td>13:30:00</td>\n",
       "      <td>NaN</td>\n",
       "      <td>2015-08-08</td>\n",
       "      <td>13:30:00</td>\n",
       "      <td>180.0</td>\n",
       "      <td>2015-08-08</td>\n",
       "      <td>13:30:00</td>\n",
       "      <td>NaN</td>\n",
       "      <td>NaN</td>\n",
       "      <td>2015-08-08</td>\n",
       "      <td>13:30:00</td>\n",
       "      <td>9900.0000</td>\n",
       "    </tr>\n",
       "    <tr>\n",
       "      <th>18</th>\n",
       "      <td>HPT2_NR_16</td>\n",
       "      <td>1</td>\n",
       "      <td>2015-08-08</td>\n",
       "      <td>18:29:42</td>\n",
       "      <td>NaN</td>\n",
       "      <td>2015-08-08</td>\n",
       "      <td>18:29:42</td>\n",
       "      <td>180.0</td>\n",
       "      <td>2015-08-08</td>\n",
       "      <td>18:29:42</td>\n",
       "      <td>NaN</td>\n",
       "      <td>NaN</td>\n",
       "      <td>2015-08-08</td>\n",
       "      <td>18:29:42</td>\n",
       "      <td>2883.6810</td>\n",
       "    </tr>\n",
       "    <tr>\n",
       "      <th>19</th>\n",
       "      <td>HPT2_NR_16</td>\n",
       "      <td>1</td>\n",
       "      <td>2015-08-08</td>\n",
       "      <td>21:15:41</td>\n",
       "      <td>NaN</td>\n",
       "      <td>2015-08-08</td>\n",
       "      <td>21:15:41</td>\n",
       "      <td>180.0</td>\n",
       "      <td>2015-08-08</td>\n",
       "      <td>21:15:41</td>\n",
       "      <td>NaN</td>\n",
       "      <td>NaN</td>\n",
       "      <td>2015-08-08</td>\n",
       "      <td>21:15:41</td>\n",
       "      <td>114.4925</td>\n",
       "    </tr>\n",
       "    <tr>\n",
       "      <th>20</th>\n",
       "      <td>HPT2_NR_16</td>\n",
       "      <td>1</td>\n",
       "      <td>2015-08-08</td>\n",
       "      <td>21:18:28</td>\n",
       "      <td>NaN</td>\n",
       "      <td>2015-08-08</td>\n",
       "      <td>21:18:28</td>\n",
       "      <td>180.0</td>\n",
       "      <td>2015-08-08</td>\n",
       "      <td>21:18:28</td>\n",
       "      <td>NaN</td>\n",
       "      <td>NaN</td>\n",
       "      <td>2015-08-08</td>\n",
       "      <td>21:18:28</td>\n",
       "      <td>1931.0880</td>\n",
       "    </tr>\n",
       "    <tr>\n",
       "      <th>21</th>\n",
       "      <td>HPT2_NR_16</td>\n",
       "      <td>1</td>\n",
       "      <td>2015-08-08</td>\n",
       "      <td>23:21:43</td>\n",
       "      <td>NaN</td>\n",
       "      <td>2015-08-08</td>\n",
       "      <td>23:21:43</td>\n",
       "      <td>180.0</td>\n",
       "      <td>2015-08-08</td>\n",
       "      <td>23:21:43</td>\n",
       "      <td>NaN</td>\n",
       "      <td>NaN</td>\n",
       "      <td>2015-08-08</td>\n",
       "      <td>23:21:43</td>\n",
       "      <td>34200.0000</td>\n",
       "    </tr>\n",
       "    <tr>\n",
       "      <th>22</th>\n",
       "      <td>HPT2_NR_16</td>\n",
       "      <td>1</td>\n",
       "      <td>2015-08-09</td>\n",
       "      <td>10:10:00</td>\n",
       "      <td>NaN</td>\n",
       "      <td>2015-08-09</td>\n",
       "      <td>10:10:00</td>\n",
       "      <td>180.0</td>\n",
       "      <td>2015-08-09</td>\n",
       "      <td>10:10:00</td>\n",
       "      <td>NaN</td>\n",
       "      <td>NaN</td>\n",
       "      <td>2015-08-09</td>\n",
       "      <td>10:10:00</td>\n",
       "      <td>1800.0000</td>\n",
       "    </tr>\n",
       "    <tr>\n",
       "      <th>23</th>\n",
       "      <td>HPT2_NR_16</td>\n",
       "      <td>1</td>\n",
       "      <td>2015-08-09</td>\n",
       "      <td>12:00:00</td>\n",
       "      <td>NaN</td>\n",
       "      <td>2015-08-09</td>\n",
       "      <td>12:00:00</td>\n",
       "      <td>165.0</td>\n",
       "      <td>2015-08-09</td>\n",
       "      <td>12:00:00</td>\n",
       "      <td>NaN</td>\n",
       "      <td>NaN</td>\n",
       "      <td>2015-08-09</td>\n",
       "      <td>12:00:00</td>\n",
       "      <td>1200.0000</td>\n",
       "    </tr>\n",
       "    <tr>\n",
       "      <th>24</th>\n",
       "      <td>HPT2_NR_16</td>\n",
       "      <td>1</td>\n",
       "      <td>2015-08-09</td>\n",
       "      <td>13:31:02</td>\n",
       "      <td>NaN</td>\n",
       "      <td>2015-08-09</td>\n",
       "      <td>13:31:02</td>\n",
       "      <td>180.0</td>\n",
       "      <td>2015-08-09</td>\n",
       "      <td>13:31:02</td>\n",
       "      <td>NaN</td>\n",
       "      <td>NaN</td>\n",
       "      <td>2015-08-09</td>\n",
       "      <td>13:31:02</td>\n",
       "      <td>2640.0000</td>\n",
       "    </tr>\n",
       "    <tr>\n",
       "      <th>25</th>\n",
       "      <td>HPT2_NR_16</td>\n",
       "      <td>1</td>\n",
       "      <td>2015-08-09</td>\n",
       "      <td>14:30:00</td>\n",
       "      <td>NaN</td>\n",
       "      <td>2015-08-09</td>\n",
       "      <td>14:30:00</td>\n",
       "      <td>180.0</td>\n",
       "      <td>2015-08-09</td>\n",
       "      <td>14:30:00</td>\n",
       "      <td>NaN</td>\n",
       "      <td>NaN</td>\n",
       "      <td>2015-08-09</td>\n",
       "      <td>14:30:00</td>\n",
       "      <td>3600.0000</td>\n",
       "    </tr>\n",
       "    <tr>\n",
       "      <th>26</th>\n",
       "      <td>HPT2_NR_16</td>\n",
       "      <td>1</td>\n",
       "      <td>2015-08-09</td>\n",
       "      <td>16:15:00</td>\n",
       "      <td>NaN</td>\n",
       "      <td>2015-08-09</td>\n",
       "      <td>16:15:00</td>\n",
       "      <td>180.0</td>\n",
       "      <td>2015-08-09</td>\n",
       "      <td>16:15:00</td>\n",
       "      <td>NaN</td>\n",
       "      <td>NaN</td>\n",
       "      <td>2015-08-09</td>\n",
       "      <td>16:15:00</td>\n",
       "      <td>1500.0000</td>\n",
       "    </tr>\n",
       "    <tr>\n",
       "      <th>27</th>\n",
       "      <td>HPT2_NR_16</td>\n",
       "      <td>1</td>\n",
       "      <td>2015-08-09</td>\n",
       "      <td>18:00:00</td>\n",
       "      <td>NaN</td>\n",
       "      <td>2015-08-09</td>\n",
       "      <td>18:00:00</td>\n",
       "      <td>180.0</td>\n",
       "      <td>2015-08-09</td>\n",
       "      <td>18:00:00</td>\n",
       "      <td>NaN</td>\n",
       "      <td>NaN</td>\n",
       "      <td>2015-08-09</td>\n",
       "      <td>18:00:00</td>\n",
       "      <td>4200.0000</td>\n",
       "    </tr>\n",
       "    <tr>\n",
       "      <th>28</th>\n",
       "      <td>HPT2_NR_16</td>\n",
       "      <td>1</td>\n",
       "      <td>2015-08-09</td>\n",
       "      <td>21:00:00</td>\n",
       "      <td>NaN</td>\n",
       "      <td>2015-08-09</td>\n",
       "      <td>21:00:00</td>\n",
       "      <td>180.0</td>\n",
       "      <td>2015-08-09</td>\n",
       "      <td>21:00:00</td>\n",
       "      <td>NaN</td>\n",
       "      <td>NaN</td>\n",
       "      <td>2015-08-09</td>\n",
       "      <td>21:00:00</td>\n",
       "      <td>6300.0000</td>\n",
       "    </tr>\n",
       "    <tr>\n",
       "      <th>29</th>\n",
       "      <td>HPT2_NR_16</td>\n",
       "      <td>1</td>\n",
       "      <td>2015-08-09</td>\n",
       "      <td>23:25:00</td>\n",
       "      <td>NaN</td>\n",
       "      <td>2015-08-09</td>\n",
       "      <td>23:25:00</td>\n",
       "      <td>180.0</td>\n",
       "      <td>2015-08-09</td>\n",
       "      <td>23:25:00</td>\n",
       "      <td>NaN</td>\n",
       "      <td>NaN</td>\n",
       "      <td>2015-08-09</td>\n",
       "      <td>23:25:00</td>\n",
       "      <td>1500.0000</td>\n",
       "    </tr>\n",
       "    <tr>\n",
       "      <th>...</th>\n",
       "      <td>...</td>\n",
       "      <td>...</td>\n",
       "      <td>...</td>\n",
       "      <td>...</td>\n",
       "      <td>...</td>\n",
       "      <td>...</td>\n",
       "      <td>...</td>\n",
       "      <td>...</td>\n",
       "      <td>...</td>\n",
       "      <td>...</td>\n",
       "      <td>...</td>\n",
       "      <td>...</td>\n",
       "      <td>...</td>\n",
       "      <td>...</td>\n",
       "      <td>...</td>\n",
       "    </tr>\n",
       "    <tr>\n",
       "      <th>1743</th>\n",
       "      <td>HPT2_NR_33</td>\n",
       "      <td>1</td>\n",
       "      <td>2015-08-11</td>\n",
       "      <td>11:30:00</td>\n",
       "      <td>NaN</td>\n",
       "      <td>2015-08-11</td>\n",
       "      <td>11:30:00</td>\n",
       "      <td>NaN</td>\n",
       "      <td>2015-08-11</td>\n",
       "      <td>11:30:00</td>\n",
       "      <td>NaN</td>\n",
       "      <td>NaN</td>\n",
       "      <td>2015-08-11</td>\n",
       "      <td>11:30:00</td>\n",
       "      <td>10200.0000</td>\n",
       "    </tr>\n",
       "    <tr>\n",
       "      <th>1744</th>\n",
       "      <td>HPT2_NR_33</td>\n",
       "      <td>1</td>\n",
       "      <td>2015-08-11</td>\n",
       "      <td>17:00:00</td>\n",
       "      <td>NaN</td>\n",
       "      <td>2015-08-11</td>\n",
       "      <td>17:00:00</td>\n",
       "      <td>NaN</td>\n",
       "      <td>2015-08-11</td>\n",
       "      <td>17:00:00</td>\n",
       "      <td>NaN</td>\n",
       "      <td>NaN</td>\n",
       "      <td>2015-08-11</td>\n",
       "      <td>17:00:00</td>\n",
       "      <td>12600.0000</td>\n",
       "    </tr>\n",
       "    <tr>\n",
       "      <th>1745</th>\n",
       "      <td>HPT2_NR_33</td>\n",
       "      <td>1</td>\n",
       "      <td>2015-08-11</td>\n",
       "      <td>20:00:00</td>\n",
       "      <td>NaN</td>\n",
       "      <td>2015-08-11</td>\n",
       "      <td>20:00:00</td>\n",
       "      <td>NaN</td>\n",
       "      <td>2015-08-11</td>\n",
       "      <td>20:00:00</td>\n",
       "      <td>NaN</td>\n",
       "      <td>NaN</td>\n",
       "      <td>2015-08-11</td>\n",
       "      <td>20:00:00</td>\n",
       "      <td>18900.0000</td>\n",
       "    </tr>\n",
       "    <tr>\n",
       "      <th>1746</th>\n",
       "      <td>HPT2_NR_33</td>\n",
       "      <td>1</td>\n",
       "      <td>2015-08-12</td>\n",
       "      <td>00:00:00</td>\n",
       "      <td>NaN</td>\n",
       "      <td>2015-08-12</td>\n",
       "      <td>00:00:00</td>\n",
       "      <td>NaN</td>\n",
       "      <td>2015-08-12</td>\n",
       "      <td>00:00:00</td>\n",
       "      <td>NaN</td>\n",
       "      <td>NaN</td>\n",
       "      <td>2015-08-12</td>\n",
       "      <td>00:00:00</td>\n",
       "      <td>11700.0000</td>\n",
       "    </tr>\n",
       "    <tr>\n",
       "      <th>1747</th>\n",
       "      <td>HPT2_NR_33</td>\n",
       "      <td>1</td>\n",
       "      <td>2015-08-12</td>\n",
       "      <td>05:30:00</td>\n",
       "      <td>NaN</td>\n",
       "      <td>2015-08-12</td>\n",
       "      <td>05:30:00</td>\n",
       "      <td>NaN</td>\n",
       "      <td>2015-08-12</td>\n",
       "      <td>05:30:00</td>\n",
       "      <td>NaN</td>\n",
       "      <td>NaN</td>\n",
       "      <td>2015-08-12</td>\n",
       "      <td>05:30:00</td>\n",
       "      <td>13500.0000</td>\n",
       "    </tr>\n",
       "    <tr>\n",
       "      <th>1748</th>\n",
       "      <td>HPT2_NR_33</td>\n",
       "      <td>1</td>\n",
       "      <td>2015-08-12</td>\n",
       "      <td>09:00:00</td>\n",
       "      <td>NaN</td>\n",
       "      <td>2015-08-12</td>\n",
       "      <td>09:00:00</td>\n",
       "      <td>NaN</td>\n",
       "      <td>2015-08-12</td>\n",
       "      <td>09:00:00</td>\n",
       "      <td>NaN</td>\n",
       "      <td>NaN</td>\n",
       "      <td>2015-08-12</td>\n",
       "      <td>09:00:00</td>\n",
       "      <td>9900.0000</td>\n",
       "    </tr>\n",
       "    <tr>\n",
       "      <th>1749</th>\n",
       "      <td>HPT2_NR_33</td>\n",
       "      <td>1</td>\n",
       "      <td>2015-08-12</td>\n",
       "      <td>13:00:00</td>\n",
       "      <td>NaN</td>\n",
       "      <td>2015-08-12</td>\n",
       "      <td>13:00:00</td>\n",
       "      <td>NaN</td>\n",
       "      <td>2015-08-12</td>\n",
       "      <td>13:00:00</td>\n",
       "      <td>NaN</td>\n",
       "      <td>NaN</td>\n",
       "      <td>2015-08-12</td>\n",
       "      <td>13:00:00</td>\n",
       "      <td>11700.0000</td>\n",
       "    </tr>\n",
       "    <tr>\n",
       "      <th>1750</th>\n",
       "      <td>HPT2_NR_33</td>\n",
       "      <td>1</td>\n",
       "      <td>2015-08-12</td>\n",
       "      <td>16:00:00</td>\n",
       "      <td>NaN</td>\n",
       "      <td>2015-08-12</td>\n",
       "      <td>16:00:00</td>\n",
       "      <td>NaN</td>\n",
       "      <td>2015-08-12</td>\n",
       "      <td>16:00:00</td>\n",
       "      <td>NaN</td>\n",
       "      <td>NaN</td>\n",
       "      <td>2015-08-12</td>\n",
       "      <td>16:00:00</td>\n",
       "      <td>4500.0000</td>\n",
       "    </tr>\n",
       "    <tr>\n",
       "      <th>1751</th>\n",
       "      <td>HPT2_NR_33</td>\n",
       "      <td>1</td>\n",
       "      <td>2015-08-12</td>\n",
       "      <td>19:30:00</td>\n",
       "      <td>NaN</td>\n",
       "      <td>2015-08-12</td>\n",
       "      <td>19:30:00</td>\n",
       "      <td>NaN</td>\n",
       "      <td>2015-08-12</td>\n",
       "      <td>19:30:00</td>\n",
       "      <td>NaN</td>\n",
       "      <td>NaN</td>\n",
       "      <td>2015-08-12</td>\n",
       "      <td>19:30:00</td>\n",
       "      <td>13500.0000</td>\n",
       "    </tr>\n",
       "    <tr>\n",
       "      <th>1752</th>\n",
       "      <td>HPT2_NR_33</td>\n",
       "      <td>1</td>\n",
       "      <td>2015-08-13</td>\n",
       "      <td>01:00:00</td>\n",
       "      <td>NaN</td>\n",
       "      <td>2015-08-13</td>\n",
       "      <td>01:00:00</td>\n",
       "      <td>NaN</td>\n",
       "      <td>2015-08-13</td>\n",
       "      <td>01:00:00</td>\n",
       "      <td>NaN</td>\n",
       "      <td>NaN</td>\n",
       "      <td>2015-08-13</td>\n",
       "      <td>01:00:00</td>\n",
       "      <td>18000.0000</td>\n",
       "    </tr>\n",
       "    <tr>\n",
       "      <th>1753</th>\n",
       "      <td>HPT2_NR_33</td>\n",
       "      <td>1</td>\n",
       "      <td>2015-08-13</td>\n",
       "      <td>06:15:00</td>\n",
       "      <td>NaN</td>\n",
       "      <td>2015-08-13</td>\n",
       "      <td>06:15:00</td>\n",
       "      <td>NaN</td>\n",
       "      <td>2015-08-13</td>\n",
       "      <td>06:15:00</td>\n",
       "      <td>NaN</td>\n",
       "      <td>NaN</td>\n",
       "      <td>2015-08-13</td>\n",
       "      <td>06:15:00</td>\n",
       "      <td>16200.0000</td>\n",
       "    </tr>\n",
       "    <tr>\n",
       "      <th>1754</th>\n",
       "      <td>HPT2_NR_33</td>\n",
       "      <td>1</td>\n",
       "      <td>2015-08-13</td>\n",
       "      <td>11:00:00</td>\n",
       "      <td>NaN</td>\n",
       "      <td>2015-08-13</td>\n",
       "      <td>11:00:00</td>\n",
       "      <td>NaN</td>\n",
       "      <td>2015-08-13</td>\n",
       "      <td>11:00:00</td>\n",
       "      <td>NaN</td>\n",
       "      <td>NaN</td>\n",
       "      <td>2015-08-13</td>\n",
       "      <td>11:00:00</td>\n",
       "      <td>17100.0000</td>\n",
       "    </tr>\n",
       "    <tr>\n",
       "      <th>1755</th>\n",
       "      <td>HPT2_NR_33</td>\n",
       "      <td>1</td>\n",
       "      <td>2015-08-13</td>\n",
       "      <td>16:00:00</td>\n",
       "      <td>NaN</td>\n",
       "      <td>2015-08-13</td>\n",
       "      <td>16:00:00</td>\n",
       "      <td>NaN</td>\n",
       "      <td>2015-08-13</td>\n",
       "      <td>16:00:00</td>\n",
       "      <td>NaN</td>\n",
       "      <td>NaN</td>\n",
       "      <td>2015-08-13</td>\n",
       "      <td>16:00:00</td>\n",
       "      <td>6300.0000</td>\n",
       "    </tr>\n",
       "    <tr>\n",
       "      <th>1756</th>\n",
       "      <td>HPT2_NR_33</td>\n",
       "      <td>1</td>\n",
       "      <td>2015-08-13</td>\n",
       "      <td>18:00:00</td>\n",
       "      <td>NaN</td>\n",
       "      <td>2015-08-13</td>\n",
       "      <td>18:00:00</td>\n",
       "      <td>NaN</td>\n",
       "      <td>2015-08-13</td>\n",
       "      <td>18:00:00</td>\n",
       "      <td>NaN</td>\n",
       "      <td>NaN</td>\n",
       "      <td>2015-08-13</td>\n",
       "      <td>18:00:00</td>\n",
       "      <td>17400.0000</td>\n",
       "    </tr>\n",
       "    <tr>\n",
       "      <th>1757</th>\n",
       "      <td>HPT2_NR_33</td>\n",
       "      <td>1</td>\n",
       "      <td>2015-08-19</td>\n",
       "      <td>00:15:00</td>\n",
       "      <td>NaN</td>\n",
       "      <td>2015-08-19</td>\n",
       "      <td>00:15:00</td>\n",
       "      <td>NaN</td>\n",
       "      <td>2015-08-19</td>\n",
       "      <td>00:15:00</td>\n",
       "      <td>NaN</td>\n",
       "      <td>NaN</td>\n",
       "      <td>2015-08-19</td>\n",
       "      <td>00:15:00</td>\n",
       "      <td>18000.0000</td>\n",
       "    </tr>\n",
       "    <tr>\n",
       "      <th>1758</th>\n",
       "      <td>HPT2_NR_33</td>\n",
       "      <td>1</td>\n",
       "      <td>2015-08-19</td>\n",
       "      <td>05:30:00</td>\n",
       "      <td>NaN</td>\n",
       "      <td>2015-08-19</td>\n",
       "      <td>05:30:00</td>\n",
       "      <td>NaN</td>\n",
       "      <td>2015-08-19</td>\n",
       "      <td>05:30:00</td>\n",
       "      <td>NaN</td>\n",
       "      <td>NaN</td>\n",
       "      <td>2015-08-19</td>\n",
       "      <td>05:30:00</td>\n",
       "      <td>18000.0000</td>\n",
       "    </tr>\n",
       "    <tr>\n",
       "      <th>1759</th>\n",
       "      <td>HPT2_NR_33</td>\n",
       "      <td>1</td>\n",
       "      <td>2015-08-19</td>\n",
       "      <td>10:00:00</td>\n",
       "      <td>NaN</td>\n",
       "      <td>2015-08-19</td>\n",
       "      <td>10:00:00</td>\n",
       "      <td>NaN</td>\n",
       "      <td>2015-08-19</td>\n",
       "      <td>10:00:00</td>\n",
       "      <td>NaN</td>\n",
       "      <td>NaN</td>\n",
       "      <td>2015-08-19</td>\n",
       "      <td>10:00:00</td>\n",
       "      <td>16200.0000</td>\n",
       "    </tr>\n",
       "    <tr>\n",
       "      <th>1760</th>\n",
       "      <td>HPT2_NR_33</td>\n",
       "      <td>1</td>\n",
       "      <td>2015-08-19</td>\n",
       "      <td>13:30:00</td>\n",
       "      <td>NaN</td>\n",
       "      <td>2015-08-19</td>\n",
       "      <td>13:30:00</td>\n",
       "      <td>NaN</td>\n",
       "      <td>2015-08-19</td>\n",
       "      <td>13:30:00</td>\n",
       "      <td>NaN</td>\n",
       "      <td>NaN</td>\n",
       "      <td>2015-08-19</td>\n",
       "      <td>13:30:00</td>\n",
       "      <td>11700.0000</td>\n",
       "    </tr>\n",
       "    <tr>\n",
       "      <th>1761</th>\n",
       "      <td>HPT2_NR_33</td>\n",
       "      <td>1</td>\n",
       "      <td>2015-08-19</td>\n",
       "      <td>16:00:00</td>\n",
       "      <td>NaN</td>\n",
       "      <td>2015-08-19</td>\n",
       "      <td>16:00:00</td>\n",
       "      <td>NaN</td>\n",
       "      <td>2015-08-19</td>\n",
       "      <td>16:00:00</td>\n",
       "      <td>NaN</td>\n",
       "      <td>NaN</td>\n",
       "      <td>2015-08-19</td>\n",
       "      <td>16:00:00</td>\n",
       "      <td>8400.0000</td>\n",
       "    </tr>\n",
       "    <tr>\n",
       "      <th>1762</th>\n",
       "      <td>HPT2_NR_33</td>\n",
       "      <td>1</td>\n",
       "      <td>2015-08-19</td>\n",
       "      <td>20:45:00</td>\n",
       "      <td>NaN</td>\n",
       "      <td>2015-08-19</td>\n",
       "      <td>20:45:00</td>\n",
       "      <td>NaN</td>\n",
       "      <td>2015-08-19</td>\n",
       "      <td>20:45:00</td>\n",
       "      <td>NaN</td>\n",
       "      <td>NaN</td>\n",
       "      <td>2015-08-19</td>\n",
       "      <td>20:45:00</td>\n",
       "      <td>3600.0000</td>\n",
       "    </tr>\n",
       "    <tr>\n",
       "      <th>1763</th>\n",
       "      <td>HPT2_NR_33</td>\n",
       "      <td>1</td>\n",
       "      <td>2015-08-20</td>\n",
       "      <td>00:15:00</td>\n",
       "      <td>NaN</td>\n",
       "      <td>2015-08-20</td>\n",
       "      <td>00:15:00</td>\n",
       "      <td>NaN</td>\n",
       "      <td>2015-08-20</td>\n",
       "      <td>00:15:00</td>\n",
       "      <td>NaN</td>\n",
       "      <td>NaN</td>\n",
       "      <td>2015-08-20</td>\n",
       "      <td>00:15:00</td>\n",
       "      <td>10800.0000</td>\n",
       "    </tr>\n",
       "    <tr>\n",
       "      <th>1764</th>\n",
       "      <td>HPT2_NR_33</td>\n",
       "      <td>1</td>\n",
       "      <td>2015-08-20</td>\n",
       "      <td>04:00:00</td>\n",
       "      <td>NaN</td>\n",
       "      <td>2015-08-20</td>\n",
       "      <td>04:00:00</td>\n",
       "      <td>NaN</td>\n",
       "      <td>2015-08-20</td>\n",
       "      <td>04:00:00</td>\n",
       "      <td>NaN</td>\n",
       "      <td>NaN</td>\n",
       "      <td>2015-08-20</td>\n",
       "      <td>04:00:00</td>\n",
       "      <td>12600.0000</td>\n",
       "    </tr>\n",
       "    <tr>\n",
       "      <th>1765</th>\n",
       "      <td>HPT2_NR_33</td>\n",
       "      <td>1</td>\n",
       "      <td>2015-08-20</td>\n",
       "      <td>08:00:00</td>\n",
       "      <td>NaN</td>\n",
       "      <td>2015-08-20</td>\n",
       "      <td>08:00:00</td>\n",
       "      <td>NaN</td>\n",
       "      <td>2015-08-20</td>\n",
       "      <td>08:00:00</td>\n",
       "      <td>NaN</td>\n",
       "      <td>NaN</td>\n",
       "      <td>2015-08-20</td>\n",
       "      <td>08:00:00</td>\n",
       "      <td>14400.0000</td>\n",
       "    </tr>\n",
       "    <tr>\n",
       "      <th>1766</th>\n",
       "      <td>HPT2_NR_33</td>\n",
       "      <td>1</td>\n",
       "      <td>2015-08-20</td>\n",
       "      <td>12:00:00</td>\n",
       "      <td>NaN</td>\n",
       "      <td>2015-08-20</td>\n",
       "      <td>12:00:00</td>\n",
       "      <td>NaN</td>\n",
       "      <td>2015-08-20</td>\n",
       "      <td>12:00:00</td>\n",
       "      <td>NaN</td>\n",
       "      <td>NaN</td>\n",
       "      <td>2015-08-20</td>\n",
       "      <td>12:00:00</td>\n",
       "      <td>13500.0000</td>\n",
       "    </tr>\n",
       "    <tr>\n",
       "      <th>1767</th>\n",
       "      <td>HPT2_NR_33</td>\n",
       "      <td>1</td>\n",
       "      <td>2015-08-20</td>\n",
       "      <td>16:15:00</td>\n",
       "      <td>NaN</td>\n",
       "      <td>2015-08-20</td>\n",
       "      <td>16:15:00</td>\n",
       "      <td>NaN</td>\n",
       "      <td>2015-08-20</td>\n",
       "      <td>16:15:00</td>\n",
       "      <td>NaN</td>\n",
       "      <td>NaN</td>\n",
       "      <td>2015-08-20</td>\n",
       "      <td>16:15:00</td>\n",
       "      <td>14400.0000</td>\n",
       "    </tr>\n",
       "    <tr>\n",
       "      <th>1768</th>\n",
       "      <td>HPT2_NR_33</td>\n",
       "      <td>1</td>\n",
       "      <td>2015-08-20</td>\n",
       "      <td>20:30:00</td>\n",
       "      <td>NaN</td>\n",
       "      <td>2015-08-20</td>\n",
       "      <td>20:30:00</td>\n",
       "      <td>NaN</td>\n",
       "      <td>2015-08-20</td>\n",
       "      <td>20:30:00</td>\n",
       "      <td>NaN</td>\n",
       "      <td>NaN</td>\n",
       "      <td>2015-08-20</td>\n",
       "      <td>20:30:00</td>\n",
       "      <td>14400.0000</td>\n",
       "    </tr>\n",
       "    <tr>\n",
       "      <th>1769</th>\n",
       "      <td>HPT2_NR_33</td>\n",
       "      <td>1</td>\n",
       "      <td>2015-08-21</td>\n",
       "      <td>00:00:00</td>\n",
       "      <td>NaN</td>\n",
       "      <td>2015-08-21</td>\n",
       "      <td>00:00:00</td>\n",
       "      <td>NaN</td>\n",
       "      <td>2015-08-21</td>\n",
       "      <td>00:00:00</td>\n",
       "      <td>NaN</td>\n",
       "      <td>NaN</td>\n",
       "      <td>2015-08-21</td>\n",
       "      <td>00:00:00</td>\n",
       "      <td>11700.0000</td>\n",
       "    </tr>\n",
       "    <tr>\n",
       "      <th>1770</th>\n",
       "      <td>HPT2_NR_33</td>\n",
       "      <td>1</td>\n",
       "      <td>2015-08-21</td>\n",
       "      <td>04:30:00</td>\n",
       "      <td>NaN</td>\n",
       "      <td>2015-08-21</td>\n",
       "      <td>04:30:00</td>\n",
       "      <td>NaN</td>\n",
       "      <td>2015-08-21</td>\n",
       "      <td>04:30:00</td>\n",
       "      <td>NaN</td>\n",
       "      <td>NaN</td>\n",
       "      <td>2015-08-21</td>\n",
       "      <td>04:30:00</td>\n",
       "      <td>15300.0000</td>\n",
       "    </tr>\n",
       "    <tr>\n",
       "      <th>1771</th>\n",
       "      <td>HPT2_NR_33</td>\n",
       "      <td>1</td>\n",
       "      <td>2015-08-21</td>\n",
       "      <td>09:00:00</td>\n",
       "      <td>NaN</td>\n",
       "      <td>2015-08-21</td>\n",
       "      <td>09:00:00</td>\n",
       "      <td>NaN</td>\n",
       "      <td>2015-08-21</td>\n",
       "      <td>09:00:00</td>\n",
       "      <td>NaN</td>\n",
       "      <td>NaN</td>\n",
       "      <td>2015-08-21</td>\n",
       "      <td>09:00:00</td>\n",
       "      <td>16200.0000</td>\n",
       "    </tr>\n",
       "    <tr>\n",
       "      <th>1772</th>\n",
       "      <td>HPT2_NR_33</td>\n",
       "      <td>1</td>\n",
       "      <td>2015-08-21</td>\n",
       "      <td>12:10:00</td>\n",
       "      <td>NaN</td>\n",
       "      <td>2015-08-21</td>\n",
       "      <td>12:10:00</td>\n",
       "      <td>NaN</td>\n",
       "      <td>2015-08-21</td>\n",
       "      <td>12:10:00</td>\n",
       "      <td>NaN</td>\n",
       "      <td>NaN</td>\n",
       "      <td>2015-08-21</td>\n",
       "      <td>12:10:00</td>\n",
       "      <td>10800.0000</td>\n",
       "    </tr>\n",
       "  </tbody>\n",
       "</table>\n",
       "<p>1773 rows × 15 columns</p>\n",
       "</div>"
      ],
      "text/plain": [
       "          BabyId  FirsttimeParent Crying date Crying time  Crying seconds  \\\n",
       "0     HPT2_NR_16                1  2015-08-05    20:31:47           900.0   \n",
       "1     HPT2_NR_16                1  2015-08-05    23:33:46           600.0   \n",
       "2     HPT2_NR_16                1  2015-08-06    10:20:00           916.0   \n",
       "3     HPT2_NR_16                1  2015-08-06    11:30:00           300.0   \n",
       "4     HPT2_NR_16                1  2015-08-06    12:15:00           600.0   \n",
       "5     HPT2_NR_16                1  2015-08-06    17:45:00             NaN   \n",
       "6     HPT2_NR_16                1  2015-08-06    19:20:00             NaN   \n",
       "7     HPT2_NR_16                1  2015-08-06    19:45:00             NaN   \n",
       "8     HPT2_NR_16                1  2015-08-06    22:30:00             NaN   \n",
       "9     HPT2_NR_16                1  2015-08-07    00:22:03             NaN   \n",
       "10    HPT2_NR_16                1  2015-08-07    11:30:00             NaN   \n",
       "11    HPT2_NR_16                1  2015-08-07    12:15:38             NaN   \n",
       "12    HPT2_NR_16                1  2015-08-07    15:01:06             NaN   \n",
       "13    HPT2_NR_16                1  2015-08-07    18:12:21             NaN   \n",
       "14    HPT2_NR_16                1  2015-08-07    20:56:39             NaN   \n",
       "15    HPT2_NR_16                1  2015-08-07    23:30:00             NaN   \n",
       "16    HPT2_NR_16                1  2015-08-08    11:40:00             NaN   \n",
       "17    HPT2_NR_16                1  2015-08-08    13:30:00             NaN   \n",
       "18    HPT2_NR_16                1  2015-08-08    18:29:42             NaN   \n",
       "19    HPT2_NR_16                1  2015-08-08    21:15:41             NaN   \n",
       "20    HPT2_NR_16                1  2015-08-08    21:18:28             NaN   \n",
       "21    HPT2_NR_16                1  2015-08-08    23:21:43             NaN   \n",
       "22    HPT2_NR_16                1  2015-08-09    10:10:00             NaN   \n",
       "23    HPT2_NR_16                1  2015-08-09    12:00:00             NaN   \n",
       "24    HPT2_NR_16                1  2015-08-09    13:31:02             NaN   \n",
       "25    HPT2_NR_16                1  2015-08-09    14:30:00             NaN   \n",
       "26    HPT2_NR_16                1  2015-08-09    16:15:00             NaN   \n",
       "27    HPT2_NR_16                1  2015-08-09    18:00:00             NaN   \n",
       "28    HPT2_NR_16                1  2015-08-09    21:00:00             NaN   \n",
       "29    HPT2_NR_16                1  2015-08-09    23:25:00             NaN   \n",
       "...          ...              ...         ...         ...             ...   \n",
       "1743  HPT2_NR_33                1  2015-08-11    11:30:00             NaN   \n",
       "1744  HPT2_NR_33                1  2015-08-11    17:00:00             NaN   \n",
       "1745  HPT2_NR_33                1  2015-08-11    20:00:00             NaN   \n",
       "1746  HPT2_NR_33                1  2015-08-12    00:00:00             NaN   \n",
       "1747  HPT2_NR_33                1  2015-08-12    05:30:00             NaN   \n",
       "1748  HPT2_NR_33                1  2015-08-12    09:00:00             NaN   \n",
       "1749  HPT2_NR_33                1  2015-08-12    13:00:00             NaN   \n",
       "1750  HPT2_NR_33                1  2015-08-12    16:00:00             NaN   \n",
       "1751  HPT2_NR_33                1  2015-08-12    19:30:00             NaN   \n",
       "1752  HPT2_NR_33                1  2015-08-13    01:00:00             NaN   \n",
       "1753  HPT2_NR_33                1  2015-08-13    06:15:00             NaN   \n",
       "1754  HPT2_NR_33                1  2015-08-13    11:00:00             NaN   \n",
       "1755  HPT2_NR_33                1  2015-08-13    16:00:00             NaN   \n",
       "1756  HPT2_NR_33                1  2015-08-13    18:00:00             NaN   \n",
       "1757  HPT2_NR_33                1  2015-08-19    00:15:00             NaN   \n",
       "1758  HPT2_NR_33                1  2015-08-19    05:30:00             NaN   \n",
       "1759  HPT2_NR_33                1  2015-08-19    10:00:00             NaN   \n",
       "1760  HPT2_NR_33                1  2015-08-19    13:30:00             NaN   \n",
       "1761  HPT2_NR_33                1  2015-08-19    16:00:00             NaN   \n",
       "1762  HPT2_NR_33                1  2015-08-19    20:45:00             NaN   \n",
       "1763  HPT2_NR_33                1  2015-08-20    00:15:00             NaN   \n",
       "1764  HPT2_NR_33                1  2015-08-20    04:00:00             NaN   \n",
       "1765  HPT2_NR_33                1  2015-08-20    08:00:00             NaN   \n",
       "1766  HPT2_NR_33                1  2015-08-20    12:00:00             NaN   \n",
       "1767  HPT2_NR_33                1  2015-08-20    16:15:00             NaN   \n",
       "1768  HPT2_NR_33                1  2015-08-20    20:30:00             NaN   \n",
       "1769  HPT2_NR_33                1  2015-08-21    00:00:00             NaN   \n",
       "1770  HPT2_NR_33                1  2015-08-21    04:30:00             NaN   \n",
       "1771  HPT2_NR_33                1  2015-08-21    09:00:00             NaN   \n",
       "1772  HPT2_NR_33                1  2015-08-21    12:10:00             NaN   \n",
       "\n",
       "     Feeding date Feeding time  Bottle amount PumpingDate PumpingTime  \\\n",
       "0      2015-08-05     20:31:47          180.0  2015-08-05    20:31:47   \n",
       "1      2015-08-05     23:33:46          180.0  2015-08-05    23:33:46   \n",
       "2      2015-08-06     10:20:00          180.0  2015-08-06    10:20:00   \n",
       "3      2015-08-06     11:30:00           35.0  2015-08-06    11:30:00   \n",
       "4      2015-08-06     12:15:00          180.0  2015-08-06    12:15:00   \n",
       "5      2015-08-06     17:45:00          180.0  2015-08-06    17:45:00   \n",
       "6      2015-08-06     19:20:00          180.0  2015-08-06    19:20:00   \n",
       "7      2015-08-06     19:45:00          180.0  2015-08-06    19:45:00   \n",
       "8      2015-08-06     22:30:00          180.0  2015-08-06    22:30:00   \n",
       "9      2015-08-07     00:22:03          180.0  2015-08-07    00:22:03   \n",
       "10     2015-08-07     11:30:00          180.0  2015-08-07    11:30:00   \n",
       "11     2015-08-07     12:15:38          180.0  2015-08-07    12:15:38   \n",
       "12     2015-08-07     15:01:06          180.0  2015-08-07    15:01:06   \n",
       "13     2015-08-07     18:12:21          180.0  2015-08-07    18:12:21   \n",
       "14     2015-08-07     20:56:39          180.0  2015-08-07    20:56:39   \n",
       "15     2015-08-07     23:30:00          180.0  2015-08-07    23:30:00   \n",
       "16     2015-08-08     11:40:00          180.0  2015-08-08    11:40:00   \n",
       "17     2015-08-08     13:30:00          180.0  2015-08-08    13:30:00   \n",
       "18     2015-08-08     18:29:42          180.0  2015-08-08    18:29:42   \n",
       "19     2015-08-08     21:15:41          180.0  2015-08-08    21:15:41   \n",
       "20     2015-08-08     21:18:28          180.0  2015-08-08    21:18:28   \n",
       "21     2015-08-08     23:21:43          180.0  2015-08-08    23:21:43   \n",
       "22     2015-08-09     10:10:00          180.0  2015-08-09    10:10:00   \n",
       "23     2015-08-09     12:00:00          165.0  2015-08-09    12:00:00   \n",
       "24     2015-08-09     13:31:02          180.0  2015-08-09    13:31:02   \n",
       "25     2015-08-09     14:30:00          180.0  2015-08-09    14:30:00   \n",
       "26     2015-08-09     16:15:00          180.0  2015-08-09    16:15:00   \n",
       "27     2015-08-09     18:00:00          180.0  2015-08-09    18:00:00   \n",
       "28     2015-08-09     21:00:00          180.0  2015-08-09    21:00:00   \n",
       "29     2015-08-09     23:25:00          180.0  2015-08-09    23:25:00   \n",
       "...           ...          ...            ...         ...         ...   \n",
       "1743   2015-08-11     11:30:00            NaN  2015-08-11    11:30:00   \n",
       "1744   2015-08-11     17:00:00            NaN  2015-08-11    17:00:00   \n",
       "1745   2015-08-11     20:00:00            NaN  2015-08-11    20:00:00   \n",
       "1746   2015-08-12     00:00:00            NaN  2015-08-12    00:00:00   \n",
       "1747   2015-08-12     05:30:00            NaN  2015-08-12    05:30:00   \n",
       "1748   2015-08-12     09:00:00            NaN  2015-08-12    09:00:00   \n",
       "1749   2015-08-12     13:00:00            NaN  2015-08-12    13:00:00   \n",
       "1750   2015-08-12     16:00:00            NaN  2015-08-12    16:00:00   \n",
       "1751   2015-08-12     19:30:00            NaN  2015-08-12    19:30:00   \n",
       "1752   2015-08-13     01:00:00            NaN  2015-08-13    01:00:00   \n",
       "1753   2015-08-13     06:15:00            NaN  2015-08-13    06:15:00   \n",
       "1754   2015-08-13     11:00:00            NaN  2015-08-13    11:00:00   \n",
       "1755   2015-08-13     16:00:00            NaN  2015-08-13    16:00:00   \n",
       "1756   2015-08-13     18:00:00            NaN  2015-08-13    18:00:00   \n",
       "1757   2015-08-19     00:15:00            NaN  2015-08-19    00:15:00   \n",
       "1758   2015-08-19     05:30:00            NaN  2015-08-19    05:30:00   \n",
       "1759   2015-08-19     10:00:00            NaN  2015-08-19    10:00:00   \n",
       "1760   2015-08-19     13:30:00            NaN  2015-08-19    13:30:00   \n",
       "1761   2015-08-19     16:00:00            NaN  2015-08-19    16:00:00   \n",
       "1762   2015-08-19     20:45:00            NaN  2015-08-19    20:45:00   \n",
       "1763   2015-08-20     00:15:00            NaN  2015-08-20    00:15:00   \n",
       "1764   2015-08-20     04:00:00            NaN  2015-08-20    04:00:00   \n",
       "1765   2015-08-20     08:00:00            NaN  2015-08-20    08:00:00   \n",
       "1766   2015-08-20     12:00:00            NaN  2015-08-20    12:00:00   \n",
       "1767   2015-08-20     16:15:00            NaN  2015-08-20    16:15:00   \n",
       "1768   2015-08-20     20:30:00            NaN  2015-08-20    20:30:00   \n",
       "1769   2015-08-21     00:00:00            NaN  2015-08-21    00:00:00   \n",
       "1770   2015-08-21     04:30:00            NaN  2015-08-21    04:30:00   \n",
       "1771   2015-08-21     09:00:00            NaN  2015-08-21    09:00:00   \n",
       "1772   2015-08-21     12:10:00            NaN  2015-08-21    12:10:00   \n",
       "\n",
       "      Pumping Left  PumpingRight SleepingDate SleepingTime  SleepingSecond  \n",
       "0             40.0          30.0   2015-08-05     20:31:47       5153.9790  \n",
       "1             50.0          35.0   2015-08-05     23:33:46      33365.1100  \n",
       "2              NaN           NaN   2015-08-06     10:20:00       2100.0000  \n",
       "3              NaN           NaN   2015-08-06     11:30:00       1200.0000  \n",
       "4              NaN           NaN   2015-08-06     12:15:00       4800.0000  \n",
       "5              NaN           NaN   2015-08-06     17:45:00       2100.0000  \n",
       "6              NaN           NaN   2015-08-06     19:20:00       1500.0000  \n",
       "7              NaN           NaN   2015-08-06     19:45:00       1520.0000  \n",
       "8              NaN           NaN   2015-08-06     22:30:00       4200.0000  \n",
       "9              NaN           NaN   2015-08-07     00:22:03      32249.3900  \n",
       "10             NaN           NaN   2015-08-07     11:30:00       1200.0000  \n",
       "11             NaN           NaN   2015-08-07     12:15:38       2700.0000  \n",
       "12             NaN           NaN   2015-08-07     15:01:06       3601.8500  \n",
       "13             NaN           NaN   2015-08-07     18:12:21       2424.9430  \n",
       "14             NaN           NaN   2015-08-07     20:56:39       2040.0000  \n",
       "15             NaN           NaN   2015-08-07     23:30:00      36000.0000  \n",
       "16             NaN           NaN   2015-08-08     11:40:00       1800.0000  \n",
       "17             NaN           NaN   2015-08-08     13:30:00       9900.0000  \n",
       "18             NaN           NaN   2015-08-08     18:29:42       2883.6810  \n",
       "19             NaN           NaN   2015-08-08     21:15:41        114.4925  \n",
       "20             NaN           NaN   2015-08-08     21:18:28       1931.0880  \n",
       "21             NaN           NaN   2015-08-08     23:21:43      34200.0000  \n",
       "22             NaN           NaN   2015-08-09     10:10:00       1800.0000  \n",
       "23             NaN           NaN   2015-08-09     12:00:00       1200.0000  \n",
       "24             NaN           NaN   2015-08-09     13:31:02       2640.0000  \n",
       "25             NaN           NaN   2015-08-09     14:30:00       3600.0000  \n",
       "26             NaN           NaN   2015-08-09     16:15:00       1500.0000  \n",
       "27             NaN           NaN   2015-08-09     18:00:00       4200.0000  \n",
       "28             NaN           NaN   2015-08-09     21:00:00       6300.0000  \n",
       "29             NaN           NaN   2015-08-09     23:25:00       1500.0000  \n",
       "...            ...           ...          ...          ...             ...  \n",
       "1743           NaN           NaN   2015-08-11     11:30:00      10200.0000  \n",
       "1744           NaN           NaN   2015-08-11     17:00:00      12600.0000  \n",
       "1745           NaN           NaN   2015-08-11     20:00:00      18900.0000  \n",
       "1746           NaN           NaN   2015-08-12     00:00:00      11700.0000  \n",
       "1747           NaN           NaN   2015-08-12     05:30:00      13500.0000  \n",
       "1748           NaN           NaN   2015-08-12     09:00:00       9900.0000  \n",
       "1749           NaN           NaN   2015-08-12     13:00:00      11700.0000  \n",
       "1750           NaN           NaN   2015-08-12     16:00:00       4500.0000  \n",
       "1751           NaN           NaN   2015-08-12     19:30:00      13500.0000  \n",
       "1752           NaN           NaN   2015-08-13     01:00:00      18000.0000  \n",
       "1753           NaN           NaN   2015-08-13     06:15:00      16200.0000  \n",
       "1754           NaN           NaN   2015-08-13     11:00:00      17100.0000  \n",
       "1755           NaN           NaN   2015-08-13     16:00:00       6300.0000  \n",
       "1756           NaN           NaN   2015-08-13     18:00:00      17400.0000  \n",
       "1757           NaN           NaN   2015-08-19     00:15:00      18000.0000  \n",
       "1758           NaN           NaN   2015-08-19     05:30:00      18000.0000  \n",
       "1759           NaN           NaN   2015-08-19     10:00:00      16200.0000  \n",
       "1760           NaN           NaN   2015-08-19     13:30:00      11700.0000  \n",
       "1761           NaN           NaN   2015-08-19     16:00:00       8400.0000  \n",
       "1762           NaN           NaN   2015-08-19     20:45:00       3600.0000  \n",
       "1763           NaN           NaN   2015-08-20     00:15:00      10800.0000  \n",
       "1764           NaN           NaN   2015-08-20     04:00:00      12600.0000  \n",
       "1765           NaN           NaN   2015-08-20     08:00:00      14400.0000  \n",
       "1766           NaN           NaN   2015-08-20     12:00:00      13500.0000  \n",
       "1767           NaN           NaN   2015-08-20     16:15:00      14400.0000  \n",
       "1768           NaN           NaN   2015-08-20     20:30:00      14400.0000  \n",
       "1769           NaN           NaN   2015-08-21     00:00:00      11700.0000  \n",
       "1770           NaN           NaN   2015-08-21     04:30:00      15300.0000  \n",
       "1771           NaN           NaN   2015-08-21     09:00:00      16200.0000  \n",
       "1772           NaN           NaN   2015-08-21     12:10:00      10800.0000  \n",
       "\n",
       "[1773 rows x 15 columns]"
      ]
     },
     "execution_count": 320,
     "metadata": {
      "tags": []
     },
     "output_type": "execute_result"
    }
   ],
   "source": [
    "cdf.rename(columns={\"PumpingTimePumpingLeftPumpingRight\": \"PumpingTime\"})"
   ]
  },
  {
   "cell_type": "markdown",
   "metadata": {
    "colab_type": "text",
    "id": "EkcFBGgvKDjp"
   },
   "source": [
    "# 1. Handling NA values"
   ]
  },
  {
   "cell_type": "code",
   "execution_count": 0,
   "metadata": {
    "colab": {},
    "colab_type": "code",
    "id": "ROJ35LDIKDjr",
    "outputId": "a27c32a7-5124-4244-b630-093ef33efe0b"
   },
   "outputs": [
    {
     "data": {
      "text/plain": [
       "count       73.000000\n",
       "mean      1457.206747\n",
       "std       2059.022293\n",
       "min         25.000000\n",
       "25%        300.000000\n",
       "50%        900.000000\n",
       "75%       1800.000000\n",
       "max      12600.000000\n",
       "Name: Crying seconds, dtype: float64"
      ]
     },
     "execution_count": 321,
     "metadata": {
      "tags": []
     },
     "output_type": "execute_result"
    }
   ],
   "source": [
    "cdf[\"Crying seconds\"].describe()"
   ]
  },
  {
   "cell_type": "code",
   "execution_count": 0,
   "metadata": {
    "colab": {},
    "colab_type": "code",
    "id": "rmt1j_q7KDjv",
    "outputId": "bd9d7506-0c47-4e24-f015-295526b2ef71"
   },
   "outputs": [
    {
     "data": {
      "text/plain": [
       "1457.2067465753425"
      ]
     },
     "execution_count": 322,
     "metadata": {
      "tags": []
     },
     "output_type": "execute_result"
    }
   ],
   "source": [
    "cdf[\"Crying seconds\"].mean()"
   ]
  },
  {
   "cell_type": "code",
   "execution_count": 0,
   "metadata": {
    "colab": {},
    "colab_type": "code",
    "id": "f-EUwUHaKDjz",
    "outputId": "f8571e16-80cb-4998-882b-5498ccf9ad72"
   },
   "outputs": [
    {
     "data": {
      "text/plain": [
       "900.0"
      ]
     },
     "execution_count": 323,
     "metadata": {
      "tags": []
     },
     "output_type": "execute_result"
    }
   ],
   "source": [
    "cdf[\"Crying seconds\"].median(skipna = True)"
   ]
  },
  {
   "cell_type": "code",
   "execution_count": 0,
   "metadata": {
    "colab": {},
    "colab_type": "code",
    "id": "SW6GjHCjKDj4",
    "outputId": "d77cf2c0-4074-455f-b587-e10b3340195b"
   },
   "outputs": [
    {
     "data": {
      "image/png": "[encoded data removed]",
      "text/plain": [
       "<Figure size 432x288 with 1 Axes>"
      ]
     },
     "metadata": {
      "needs_background": "light",
      "tags": []
     },
     "output_type": "display_data"
    }
   ],
   "source": [
    "cdf[\"Crying seconds\"].plot.box()\n",
    "plt.show()"
   ]
  },
  {
   "cell_type": "code",
   "execution_count": 0,
   "metadata": {
    "colab": {},
    "colab_type": "code",
    "id": "f42yB8BLKDj8"
   },
   "outputs": [],
   "source": [
    "cdf[\"Crying seconds\"].fillna(cdf[\"Crying seconds\"].median(), inplace=True)"
   ]
  },
  {
   "cell_type": "code",
   "execution_count": 0,
   "metadata": {
    "colab": {},
    "colab_type": "code",
    "id": "CO9YWCPFKDkA",
    "outputId": "c4ed322d-b6d3-4793-ca6e-fc144a4109b2"
   },
   "outputs": [
    {
     "data": {
      "text/plain": [
       "0"
      ]
     },
     "execution_count": 326,
     "metadata": {
      "tags": []
     },
     "output_type": "execute_result"
    }
   ],
   "source": [
    "cdf[\"Crying seconds\"].isnull().sum()"
   ]
  },
  {
   "cell_type": "markdown",
   "metadata": {
    "colab_type": "text",
    "id": "qx34BoS-KDkE"
   },
   "source": [
    "We see that that in \"Crying seconds\" column there are 1700 missing values which almost 90%.And above we see that there are outliers present in the columns. So to deal with null values we replaced them with the median of all values.As Median is better metric to choose were there are extreme outliers.."
   ]
  },
  {
   "cell_type": "code",
   "execution_count": 0,
   "metadata": {
    "colab": {},
    "colab_type": "code",
    "id": "HuGd_3oiKDkF",
    "outputId": "70ea5bcd-6527-4f85-b26d-a070f8adc4b5"
   },
   "outputs": [
    {
     "data": {
      "text/plain": [
       "count    1044.000000\n",
       "mean      127.203065\n",
       "std        36.557694\n",
       "min        20.000000\n",
       "25%       100.000000\n",
       "50%       120.000000\n",
       "75%       150.000000\n",
       "max       210.000000\n",
       "Name: Bottle amount, dtype: float64"
      ]
     },
     "execution_count": 327,
     "metadata": {
      "tags": []
     },
     "output_type": "execute_result"
    }
   ],
   "source": [
    "cdf[\"Bottle amount\"].describe()"
   ]
  },
  {
   "cell_type": "code",
   "execution_count": 0,
   "metadata": {
    "colab": {},
    "colab_type": "code",
    "id": "vsgu7kxiKDkI",
    "outputId": "d399cb92-1e0a-4bc8-da54-0a92191ddb28"
   },
   "outputs": [
    {
     "data": {
      "image/png": "[encoded data removed]",
      "text/plain": [
       "<Figure size 432x288 with 1 Axes>"
      ]
     },
     "metadata": {
      "needs_background": "light",
      "tags": []
     },
     "output_type": "display_data"
    }
   ],
   "source": [
    "cdf[\"Bottle amount\"].plot.box()\n",
    "plt.show()"
   ]
  },
  {
   "cell_type": "markdown",
   "metadata": {
    "colab_type": "text",
    "id": "2poAdt7HKDkM"
   },
   "source": [
    "Here in the \"Bottle amount\" we don't see any outliers and in this column there are 729 missing values.so we replace them with mean metric to handle null values."
   ]
  },
  {
   "cell_type": "code",
   "execution_count": 0,
   "metadata": {
    "colab": {},
    "colab_type": "code",
    "id": "3X-bo4lsKDkO"
   },
   "outputs": [],
   "source": [
    "cdf[\"Bottle amount\"].fillna(cdf[\"Bottle amount\"].mean(), inplace=True)"
   ]
  },
  {
   "cell_type": "code",
   "execution_count": 0,
   "metadata": {
    "colab": {},
    "colab_type": "code",
    "id": "A3Mv9UGZKDkV",
    "outputId": "aa89ab79-bec3-461c-f3c2-fc14d8efc51b"
   },
   "outputs": [
    {
     "data": {
      "text/plain": [
       "0"
      ]
     },
     "execution_count": 330,
     "metadata": {
      "tags": []
     },
     "output_type": "execute_result"
    }
   ],
   "source": [
    "cdf[\"Bottle amount\"].isnull().sum()"
   ]
  },
  {
   "cell_type": "code",
   "execution_count": 0,
   "metadata": {
    "colab": {},
    "colab_type": "code",
    "id": "KVp9xuVUKDkb",
    "outputId": "f42de55f-d658-4d8d-83e5-f30793ebed5a"
   },
   "outputs": [
    {
     "data": {
      "text/plain": [
       "count     61.000000\n",
       "mean      48.360656\n",
       "std       42.600091\n",
       "min        0.000000\n",
       "25%       25.000000\n",
       "50%       40.000000\n",
       "75%       55.000000\n",
       "max      190.000000\n",
       "Name: Pumping Left, dtype: float64"
      ]
     },
     "execution_count": 331,
     "metadata": {
      "tags": []
     },
     "output_type": "execute_result"
    }
   ],
   "source": [
    "cdf[\"Pumping Left\"].describe()"
   ]
  },
  {
   "cell_type": "code",
   "execution_count": 0,
   "metadata": {
    "colab": {},
    "colab_type": "code",
    "id": "7JlRXbB2KDkg",
    "outputId": "8ebefd48-16d2-4dc9-c942-98745b2bb504"
   },
   "outputs": [
    {
     "data": {
      "image/png": "[encoded data removed]",
      "text/plain": [
       "<Figure size 432x288 with 1 Axes>"
      ]
     },
     "metadata": {
      "needs_background": "light",
      "tags": []
     },
     "output_type": "display_data"
    }
   ],
   "source": [
    "cdf[\"Pumping Left\"].plot.box()\n",
    "plt.show()"
   ]
  },
  {
   "cell_type": "code",
   "execution_count": 0,
   "metadata": {
    "colab": {},
    "colab_type": "code",
    "id": "hPo-rcxtKDkm"
   },
   "outputs": [],
   "source": [
    "cdf[\"Pumping Left\"].fillna(cdf[\"Pumping Left\"].median(), inplace=True)"
   ]
  },
  {
   "cell_type": "code",
   "execution_count": 0,
   "metadata": {
    "colab": {},
    "colab_type": "code",
    "id": "qZ7qkACTKDky",
    "outputId": "94ae846d-0d31-493d-f7c4-a7db20f7b1c8"
   },
   "outputs": [
    {
     "data": {
      "text/plain": [
       "0"
      ]
     },
     "execution_count": 334,
     "metadata": {
      "tags": []
     },
     "output_type": "execute_result"
    }
   ],
   "source": [
    "cdf[\"Pumping Left\"].isnull().sum()               "
   ]
  },
  {
   "cell_type": "code",
   "execution_count": 0,
   "metadata": {
    "colab": {},
    "colab_type": "code",
    "id": "mXDAiG-cKDk7",
    "outputId": "c5f82eeb-16b1-4e99-e0a6-88fa936a1de7"
   },
   "outputs": [
    {
     "data": {
      "text/plain": [
       "count     68.000000\n",
       "mean      38.014706\n",
       "std       25.394495\n",
       "min        0.000000\n",
       "25%       20.000000\n",
       "50%       32.500000\n",
       "75%       55.000000\n",
       "max      155.000000\n",
       "Name: PumpingRight, dtype: float64"
      ]
     },
     "execution_count": 335,
     "metadata": {
      "tags": []
     },
     "output_type": "execute_result"
    }
   ],
   "source": [
    "cdf[\"PumpingRight\"].describe()"
   ]
  },
  {
   "cell_type": "code",
   "execution_count": 0,
   "metadata": {
    "colab": {},
    "colab_type": "code",
    "id": "aizdNIj8KDlD",
    "outputId": "4cab3465-287f-4c0c-bafb-30d8c5d2b814"
   },
   "outputs": [
    {
     "data": {
      "image/png": "[encoded data removed]",
      "text/plain": [
       "<Figure size 432x288 with 1 Axes>"
      ]
     },
     "metadata": {
      "needs_background": "light",
      "tags": []
     },
     "output_type": "display_data"
    }
   ],
   "source": [
    "cdf[\"PumpingRight\"].plot.box()\n",
    "plt.show()"
   ]
  },
  {
   "cell_type": "code",
   "execution_count": 0,
   "metadata": {
    "colab": {},
    "colab_type": "code",
    "id": "ImnTJ98TKDlK"
   },
   "outputs": [],
   "source": [
    "cdf[\"PumpingRight\"].fillna(cdf[\"PumpingRight\"].median(), inplace=True)"
   ]
  },
  {
   "cell_type": "code",
   "execution_count": 0,
   "metadata": {
    "colab": {},
    "colab_type": "code",
    "id": "HsX8jmqyKDlT",
    "outputId": "9ef567c2-54ee-42f4-c672-7d419d039307"
   },
   "outputs": [
    {
     "data": {
      "text/plain": [
       "0"
      ]
     },
     "execution_count": 338,
     "metadata": {
      "tags": []
     },
     "output_type": "execute_result"
    }
   ],
   "source": [
    "cdf[\"PumpingRight\"].isnull().sum()               "
   ]
  },
  {
   "cell_type": "code",
   "execution_count": 0,
   "metadata": {
    "colab": {},
    "colab_type": "code",
    "id": "X11D6YagKDlb",
    "outputId": "a53e0fca-2ab9-43ec-fab0-d511708447f2"
   },
   "outputs": [
    {
     "data": {
      "text/plain": [
       "count      996.000000\n",
       "mean      9896.331265\n",
       "std       8834.708509\n",
       "min        114.492500\n",
       "25%       3599.739500\n",
       "50%       7701.496500\n",
       "75%      12600.000000\n",
       "max      45000.000000\n",
       "Name: SleepingSecond, dtype: float64"
      ]
     },
     "execution_count": 339,
     "metadata": {
      "tags": []
     },
     "output_type": "execute_result"
    }
   ],
   "source": [
    "cdf[\"SleepingSecond\"].describe()"
   ]
  },
  {
   "cell_type": "code",
   "execution_count": 0,
   "metadata": {
    "colab": {},
    "colab_type": "code",
    "id": "xq2Vg7KFKDlh",
    "outputId": "fb836c9d-28b3-4b24-a7d8-da5941b5a45d"
   },
   "outputs": [
    {
     "data": {
      "image/png": "[encoded data removed]",
      "text/plain": [
       "<Figure size 432x288 with 1 Axes>"
      ]
     },
     "metadata": {
      "needs_background": "light",
      "tags": []
     },
     "output_type": "display_data"
    }
   ],
   "source": [
    "cdf[\"SleepingSecond\"].plot.box()\n",
    "plt.show()"
   ]
  },
  {
   "cell_type": "code",
   "execution_count": 0,
   "metadata": {
    "colab": {},
    "colab_type": "code",
    "id": "O2Xb6j_jKDlr"
   },
   "outputs": [],
   "source": [
    "cdf[\"SleepingSecond\"].fillna(cdf[\"SleepingSecond\"].median(), inplace=True)"
   ]
  },
  {
   "cell_type": "code",
   "execution_count": 0,
   "metadata": {
    "colab": {},
    "colab_type": "code",
    "id": "Hgej1G1OKDmA",
    "outputId": "d16f6902-fc4f-44de-e736-6104fa3970c9"
   },
   "outputs": [
    {
     "data": {
      "text/plain": [
       "0"
      ]
     },
     "execution_count": 342,
     "metadata": {
      "tags": []
     },
     "output_type": "execute_result"
    }
   ],
   "source": [
    "cdf[\"SleepingSecond\"].isnull().sum()               "
   ]
  },
  {
   "cell_type": "code",
   "execution_count": 0,
   "metadata": {
    "colab": {},
    "colab_type": "code",
    "id": "jsKN5Q8NKDmH",
    "outputId": "468dff92-fd21-4fae-d440-d66e3b87f0a4"
   },
   "outputs": [
    {
     "data": {
      "text/plain": [
       "BabyId                                0\n",
       "FirsttimeParent                       0\n",
       "Crying date                           0\n",
       "Crying time                           0\n",
       "Crying seconds                        0\n",
       "Feeding date                          0\n",
       "Feeding time                          0\n",
       "Bottle amount                         0\n",
       "PumpingDate                           0\n",
       "PumpingTimePumpingLeftPumpingRight    0\n",
       "Pumping Left                          0\n",
       "PumpingRight                          0\n",
       "SleepingDate                          0\n",
       "SleepingTime                          0\n",
       "SleepingSecond                        0\n",
       "dtype: int64"
      ]
     },
     "execution_count": 343,
     "metadata": {
      "tags": []
     },
     "output_type": "execute_result"
    }
   ],
   "source": [
    "cdf.isnull().sum()"
   ]
  },
  {
   "cell_type": "markdown",
   "metadata": {
    "colab_type": "text",
    "id": "hZ45_PO1KDmN"
   },
   "source": [
    "So we have filled null values with their means and median values.."
   ]
  },
  {
   "cell_type": "markdown",
   "metadata": {
    "colab_type": "text",
    "id": "n295YQSTKDmO"
   },
   "source": [
    "# Find the overall statistical information of the dataset."
   ]
  },
  {
   "cell_type": "code",
   "execution_count": 0,
   "metadata": {
    "colab": {},
    "colab_type": "code",
    "id": "wv90OPKRKDmP",
    "outputId": "b44d4200-a0e9-49a6-fca5-14472c8d9c79"
   },
   "outputs": [
    {
     "data": {
      "text/html": [
       "<div>\n",
       "<style scoped>\n",
       "    .dataframe tbody tr th:only-of-type {\n",
       "        vertical-align: middle;\n",
       "    }\n",
       "\n",
       "    .dataframe tbody tr th {\n",
       "        vertical-align: top;\n",
       "    }\n",
       "\n",
       "    .dataframe thead th {\n",
       "        text-align: right;\n",
       "    }\n",
       "</style>\n",
       "<table border=\"1\" class=\"dataframe\">\n",
       "  <thead>\n",
       "    <tr style=\"text-align: right;\">\n",
       "      <th></th>\n",
       "      <th>FirsttimeParent</th>\n",
       "      <th>Crying seconds</th>\n",
       "      <th>Bottle amount</th>\n",
       "      <th>Pumping Left</th>\n",
       "      <th>PumpingRight</th>\n",
       "      <th>SleepingSecond</th>\n",
       "    </tr>\n",
       "  </thead>\n",
       "  <tbody>\n",
       "    <tr>\n",
       "      <th>count</th>\n",
       "      <td>1773.000000</td>\n",
       "      <td>1773.000000</td>\n",
       "      <td>1773.000000</td>\n",
       "      <td>1773.000000</td>\n",
       "      <td>1773.000000</td>\n",
       "      <td>1773.000000</td>\n",
       "    </tr>\n",
       "    <tr>\n",
       "      <th>mean</th>\n",
       "      <td>0.840948</td>\n",
       "      <td>922.941959</td>\n",
       "      <td>127.203065</td>\n",
       "      <td>40.287648</td>\n",
       "      <td>32.711506</td>\n",
       "      <td>8934.466283</td>\n",
       "    </tr>\n",
       "    <tr>\n",
       "      <th>std</th>\n",
       "      <td>0.365828</td>\n",
       "      <td>429.565536</td>\n",
       "      <td>28.047172</td>\n",
       "      <td>7.985713</td>\n",
       "      <td>5.050294</td>\n",
       "      <td>6709.234574</td>\n",
       "    </tr>\n",
       "    <tr>\n",
       "      <th>min</th>\n",
       "      <td>0.000000</td>\n",
       "      <td>25.000000</td>\n",
       "      <td>20.000000</td>\n",
       "      <td>0.000000</td>\n",
       "      <td>0.000000</td>\n",
       "      <td>114.492500</td>\n",
       "    </tr>\n",
       "    <tr>\n",
       "      <th>25%</th>\n",
       "      <td>1.000000</td>\n",
       "      <td>900.000000</td>\n",
       "      <td>120.000000</td>\n",
       "      <td>40.000000</td>\n",
       "      <td>32.500000</td>\n",
       "      <td>6600.000000</td>\n",
       "    </tr>\n",
       "    <tr>\n",
       "      <th>50%</th>\n",
       "      <td>1.000000</td>\n",
       "      <td>900.000000</td>\n",
       "      <td>127.203065</td>\n",
       "      <td>40.000000</td>\n",
       "      <td>32.500000</td>\n",
       "      <td>7701.496500</td>\n",
       "    </tr>\n",
       "    <tr>\n",
       "      <th>75%</th>\n",
       "      <td>1.000000</td>\n",
       "      <td>900.000000</td>\n",
       "      <td>130.000000</td>\n",
       "      <td>40.000000</td>\n",
       "      <td>32.500000</td>\n",
       "      <td>8953.940000</td>\n",
       "    </tr>\n",
       "    <tr>\n",
       "      <th>max</th>\n",
       "      <td>1.000000</td>\n",
       "      <td>12600.000000</td>\n",
       "      <td>210.000000</td>\n",
       "      <td>190.000000</td>\n",
       "      <td>155.000000</td>\n",
       "      <td>45000.000000</td>\n",
       "    </tr>\n",
       "  </tbody>\n",
       "</table>\n",
       "</div>"
      ],
      "text/plain": [
       "       FirsttimeParent  Crying seconds  Bottle amount  Pumping Left  \\\n",
       "count      1773.000000     1773.000000    1773.000000   1773.000000   \n",
       "mean          0.840948      922.941959     127.203065     40.287648   \n",
       "std           0.365828      429.565536      28.047172      7.985713   \n",
       "min           0.000000       25.000000      20.000000      0.000000   \n",
       "25%           1.000000      900.000000     120.000000     40.000000   \n",
       "50%           1.000000      900.000000     127.203065     40.000000   \n",
       "75%           1.000000      900.000000     130.000000     40.000000   \n",
       "max           1.000000    12600.000000     210.000000    190.000000   \n",
       "\n",
       "       PumpingRight  SleepingSecond  \n",
       "count   1773.000000     1773.000000  \n",
       "mean      32.711506     8934.466283  \n",
       "std        5.050294     6709.234574  \n",
       "min        0.000000      114.492500  \n",
       "25%       32.500000     6600.000000  \n",
       "50%       32.500000     7701.496500  \n",
       "75%       32.500000     8953.940000  \n",
       "max      155.000000    45000.000000  "
      ]
     },
     "execution_count": 344,
     "metadata": {
      "tags": []
     },
     "output_type": "execute_result"
    }
   ],
   "source": [
    "cdf.describe()"
   ]
  },
  {
   "cell_type": "markdown",
   "metadata": {
    "colab_type": "text",
    "id": "dG23nCanKDmU"
   },
   "source": [
    "Here We see that there are extreme outliers values present in \"Crying seconds\" and \"SleepingSeconds\""
   ]
  },
  {
   "cell_type": "markdown",
   "metadata": {
    "colab_type": "text",
    "id": "Otp0ielFKDmW"
   },
   "source": [
    "# 3. Find the correlation between Crying seconds of babies, sleeping seconds"
   ]
  },
  {
   "cell_type": "code",
   "execution_count": 0,
   "metadata": {
    "colab": {},
    "colab_type": "code",
    "id": "S29auADzKDmX",
    "outputId": "94fd9745-1429-4a6b-ba8b-d2948c082549"
   },
   "outputs": [
    {
     "data": {
      "text/html": [
       "<div>\n",
       "<style scoped>\n",
       "    .dataframe tbody tr th:only-of-type {\n",
       "        vertical-align: middle;\n",
       "    }\n",
       "\n",
       "    .dataframe tbody tr th {\n",
       "        vertical-align: top;\n",
       "    }\n",
       "\n",
       "    .dataframe thead th {\n",
       "        text-align: right;\n",
       "    }\n",
       "</style>\n",
       "<table border=\"1\" class=\"dataframe\">\n",
       "  <thead>\n",
       "    <tr style=\"text-align: right;\">\n",
       "      <th></th>\n",
       "      <th>FirsttimeParent</th>\n",
       "      <th>Crying seconds</th>\n",
       "      <th>Bottle amount</th>\n",
       "      <th>Pumping Left</th>\n",
       "      <th>PumpingRight</th>\n",
       "      <th>SleepingSecond</th>\n",
       "    </tr>\n",
       "  </thead>\n",
       "  <tbody>\n",
       "    <tr>\n",
       "      <th>FirsttimeParent</th>\n",
       "      <td>1.000000</td>\n",
       "      <td>0.023233</td>\n",
       "      <td>-0.033756</td>\n",
       "      <td>0.015670</td>\n",
       "      <td>0.018219</td>\n",
       "      <td>-0.060996</td>\n",
       "    </tr>\n",
       "    <tr>\n",
       "      <th>Crying seconds</th>\n",
       "      <td>0.023233</td>\n",
       "      <td>1.000000</td>\n",
       "      <td>-0.024318</td>\n",
       "      <td>-0.003060</td>\n",
       "      <td>-0.002238</td>\n",
       "      <td>0.011705</td>\n",
       "    </tr>\n",
       "    <tr>\n",
       "      <th>Bottle amount</th>\n",
       "      <td>-0.033756</td>\n",
       "      <td>-0.024318</td>\n",
       "      <td>1.000000</td>\n",
       "      <td>0.002396</td>\n",
       "      <td>-0.000554</td>\n",
       "      <td>0.028881</td>\n",
       "    </tr>\n",
       "    <tr>\n",
       "      <th>Pumping Left</th>\n",
       "      <td>0.015670</td>\n",
       "      <td>-0.003060</td>\n",
       "      <td>0.002396</td>\n",
       "      <td>1.000000</td>\n",
       "      <td>0.194740</td>\n",
       "      <td>-0.008642</td>\n",
       "    </tr>\n",
       "    <tr>\n",
       "      <th>PumpingRight</th>\n",
       "      <td>0.018219</td>\n",
       "      <td>-0.002238</td>\n",
       "      <td>-0.000554</td>\n",
       "      <td>0.194740</td>\n",
       "      <td>1.000000</td>\n",
       "      <td>-0.009447</td>\n",
       "    </tr>\n",
       "    <tr>\n",
       "      <th>SleepingSecond</th>\n",
       "      <td>-0.060996</td>\n",
       "      <td>0.011705</td>\n",
       "      <td>0.028881</td>\n",
       "      <td>-0.008642</td>\n",
       "      <td>-0.009447</td>\n",
       "      <td>1.000000</td>\n",
       "    </tr>\n",
       "  </tbody>\n",
       "</table>\n",
       "</div>"
      ],
      "text/plain": [
       "                 FirsttimeParent  Crying seconds  Bottle amount  Pumping Left  \\\n",
       "FirsttimeParent         1.000000        0.023233      -0.033756      0.015670   \n",
       "Crying seconds          0.023233        1.000000      -0.024318     -0.003060   \n",
       "Bottle amount          -0.033756       -0.024318       1.000000      0.002396   \n",
       "Pumping Left            0.015670       -0.003060       0.002396      1.000000   \n",
       "PumpingRight            0.018219       -0.002238      -0.000554      0.194740   \n",
       "SleepingSecond         -0.060996        0.011705       0.028881     -0.008642   \n",
       "\n",
       "                 PumpingRight  SleepingSecond  \n",
       "FirsttimeParent      0.018219       -0.060996  \n",
       "Crying seconds      -0.002238        0.011705  \n",
       "Bottle amount       -0.000554        0.028881  \n",
       "Pumping Left         0.194740       -0.008642  \n",
       "PumpingRight         1.000000       -0.009447  \n",
       "SleepingSecond      -0.009447        1.000000  "
      ]
     },
     "execution_count": 345,
     "metadata": {
      "tags": []
     },
     "output_type": "execute_result"
    }
   ],
   "source": [
    "corr=cdf.corr()\n",
    "corr"
   ]
  },
  {
   "cell_type": "code",
   "execution_count": 0,
   "metadata": {
    "colab": {},
    "colab_type": "code",
    "id": "OjcUJ1ilKDmb",
    "outputId": "c665ec48-1c4f-491a-c2c3-2d5403d90c97"
   },
   "outputs": [
    {
     "data": {
      "text/plain": [
       "0.011704822382179125"
      ]
     },
     "execution_count": 346,
     "metadata": {
      "tags": []
     },
     "output_type": "execute_result"
    }
   ],
   "source": [
    "corr[\"Crying seconds\"][\"SleepingSecond\"]"
   ]
  },
  {
   "cell_type": "code",
   "execution_count": 0,
   "metadata": {
    "colab": {},
    "colab_type": "code",
    "id": "up-PiUMvKDme",
    "outputId": "d26fa3da-19f7-4b4a-a621-d686095439ad"
   },
   "outputs": [
    {
     "data": {
      "image/png": "[encoded data removed]",
      "text/plain": [
       "<Figure size 432x288 with 1 Axes>"
      ]
     },
     "metadata": {
      "needs_background": "light",
      "tags": []
     },
     "output_type": "display_data"
    }
   ],
   "source": [
    "sns.scatterplot(x=\"Crying seconds\",y=\"SleepingSecond\",data=cdf)\n",
    "plt.show()"
   ]
  },
  {
   "cell_type": "markdown",
   "metadata": {
    "colab_type": "text",
    "id": "e3eL9wZIKDmh"
   },
   "source": [
    "We see that there is little to no corrleation between this 2 variables..."
   ]
  },
  {
   "cell_type": "markdown",
   "metadata": {
    "colab_type": "text",
    "id": "P-eC2OAzKDmi"
   },
   "source": [
    "# 4. Take any 2 babies’ data as a subset. Check whether that subset is deviating from the entire dataset. If it is deviating remove it from the dataframe."
   ]
  },
  {
   "cell_type": "markdown",
   "metadata": {
    "colab_type": "text",
    "id": "_JrBnY2aKDmj"
   },
   "source": [
    "# Perform any other technique to clean data."
   ]
  },
  {
   "cell_type": "markdown",
   "metadata": {
    "colab_type": "text",
    "id": "wsCx9HUKKDmm"
   },
   "source": [
    "# Data Analysis & Visualization"
   ]
  },
  {
   "cell_type": "markdown",
   "metadata": {
    "colab_type": "text",
    "id": "Smp6vg2tKDmq"
   },
   "source": [
    "# 2. Plot the following plots"
   ]
  },
  {
   "cell_type": "markdown",
   "metadata": {
    "colab_type": "text",
    "id": "11_S05jQKDmr"
   },
   "source": [
    "# 1. Take 5 babies into consideration and draw a bar chart to know crying data on different days."
   ]
  },
  {
   "cell_type": "code",
   "execution_count": 0,
   "metadata": {
    "colab": {},
    "colab_type": "code",
    "id": "hbFJ9g6AKDms",
    "outputId": "50cf03c1-d04c-4d58-ac5f-aee117c1c6d0"
   },
   "outputs": [
    {
     "data": {
      "text/plain": [
       "<matplotlib.axes._subplots.AxesSubplot at 0x1ab782017f0>"
      ]
     },
     "execution_count": 348,
     "metadata": {
      "tags": []
     },
     "output_type": "execute_result"
    },
    {
     "data": {
      "image/png": "[encoded data removed]",
      "text/plain": [
       "<Figure size 432x288 with 1 Axes>"
      ]
     },
     "metadata": {
      "needs_background": "light",
      "tags": []
     },
     "output_type": "display_data"
    }
   ],
   "source": [
    "b=cdf.head(5)\n",
    "b.plot(x='Crying date',y=\"Crying seconds\",kind='bar')"
   ]
  },
  {
   "cell_type": "markdown",
   "metadata": {
    "colab_type": "text",
    "id": "xwwsEZJgKDmv"
   },
   "source": [
    "# 2. Consider Pumping data (Pumping left, Pumping right column) and feeding data(Bottle amount column). Draw Bar chart to find out any relationship between them by taking any 4 babies."
   ]
  },
  {
   "cell_type": "code",
   "execution_count": 0,
   "metadata": {
    "colab": {},
    "colab_type": "code",
    "id": "E5Rdghm9KDmx",
    "outputId": "e30954bc-b329-45e2-b7d8-3cf0875bcbf6"
   },
   "outputs": [
    {
     "data": {
      "text/plain": [
       "<matplotlib.axes._subplots.AxesSubplot at 0x1ab79a0b860>"
      ]
     },
     "execution_count": 349,
     "metadata": {
      "tags": []
     },
     "output_type": "execute_result"
    },
    {
     "data": {
      "image/png": "[encoded data removed]",
      "text/plain": [
       "<Figure size 432x288 with 1 Axes>"
      ]
     },
     "metadata": {
      "needs_background": "light",
      "tags": []
     },
     "output_type": "display_data"
    }
   ],
   "source": [
    "c=cdf.head(5)\n",
    "c.plot(x=\"Bottle amount\",y=['Pumping Left',\"PumpingRight\"],kind='bar')"
   ]
  },
  {
   "cell_type": "code",
   "execution_count": 0,
   "metadata": {
    "colab": {},
    "colab_type": "code",
    "id": "zHyQllvrKDm1",
    "outputId": "a66a9f8e-8c86-4d6f-fee7-4a39ac2ef0e7"
   },
   "outputs": [
    {
     "data": {
      "text/html": [
       "<div>\n",
       "<style scoped>\n",
       "    .dataframe tbody tr th:only-of-type {\n",
       "        vertical-align: middle;\n",
       "    }\n",
       "\n",
       "    .dataframe tbody tr th {\n",
       "        vertical-align: top;\n",
       "    }\n",
       "\n",
       "    .dataframe thead th {\n",
       "        text-align: right;\n",
       "    }\n",
       "</style>\n",
       "<table border=\"1\" class=\"dataframe\">\n",
       "  <thead>\n",
       "    <tr style=\"text-align: right;\">\n",
       "      <th></th>\n",
       "      <th>BabyId</th>\n",
       "      <th>FirsttimeParent</th>\n",
       "      <th>Crying date</th>\n",
       "      <th>Crying time</th>\n",
       "      <th>Crying seconds</th>\n",
       "      <th>Feeding date</th>\n",
       "      <th>Feeding time</th>\n",
       "      <th>Bottle amount</th>\n",
       "      <th>PumpingDate</th>\n",
       "      <th>PumpingTimePumpingLeftPumpingRight</th>\n",
       "      <th>Pumping Left</th>\n",
       "      <th>PumpingRight</th>\n",
       "      <th>SleepingDate</th>\n",
       "      <th>SleepingTime</th>\n",
       "      <th>SleepingSecond</th>\n",
       "    </tr>\n",
       "  </thead>\n",
       "  <tbody>\n",
       "    <tr>\n",
       "      <th>0</th>\n",
       "      <td>HPT2_NR_16</td>\n",
       "      <td>1</td>\n",
       "      <td>2015-08-05</td>\n",
       "      <td>20:31:47</td>\n",
       "      <td>900.0</td>\n",
       "      <td>2015-08-05</td>\n",
       "      <td>20:31:47</td>\n",
       "      <td>180.0</td>\n",
       "      <td>2015-08-05</td>\n",
       "      <td>20:31:47</td>\n",
       "      <td>40.0</td>\n",
       "      <td>30.0</td>\n",
       "      <td>2015-08-05</td>\n",
       "      <td>20:31:47</td>\n",
       "      <td>5153.979</td>\n",
       "    </tr>\n",
       "    <tr>\n",
       "      <th>1</th>\n",
       "      <td>HPT2_NR_16</td>\n",
       "      <td>1</td>\n",
       "      <td>2015-08-05</td>\n",
       "      <td>23:33:46</td>\n",
       "      <td>600.0</td>\n",
       "      <td>2015-08-05</td>\n",
       "      <td>23:33:46</td>\n",
       "      <td>180.0</td>\n",
       "      <td>2015-08-05</td>\n",
       "      <td>23:33:46</td>\n",
       "      <td>50.0</td>\n",
       "      <td>35.0</td>\n",
       "      <td>2015-08-05</td>\n",
       "      <td>23:33:46</td>\n",
       "      <td>33365.110</td>\n",
       "    </tr>\n",
       "    <tr>\n",
       "      <th>2</th>\n",
       "      <td>HPT2_NR_16</td>\n",
       "      <td>1</td>\n",
       "      <td>2015-08-06</td>\n",
       "      <td>10:20:00</td>\n",
       "      <td>916.0</td>\n",
       "      <td>2015-08-06</td>\n",
       "      <td>10:20:00</td>\n",
       "      <td>180.0</td>\n",
       "      <td>2015-08-06</td>\n",
       "      <td>10:20:00</td>\n",
       "      <td>40.0</td>\n",
       "      <td>32.5</td>\n",
       "      <td>2015-08-06</td>\n",
       "      <td>10:20:00</td>\n",
       "      <td>2100.000</td>\n",
       "    </tr>\n",
       "    <tr>\n",
       "      <th>3</th>\n",
       "      <td>HPT2_NR_16</td>\n",
       "      <td>1</td>\n",
       "      <td>2015-08-06</td>\n",
       "      <td>11:30:00</td>\n",
       "      <td>300.0</td>\n",
       "      <td>2015-08-06</td>\n",
       "      <td>11:30:00</td>\n",
       "      <td>35.0</td>\n",
       "      <td>2015-08-06</td>\n",
       "      <td>11:30:00</td>\n",
       "      <td>40.0</td>\n",
       "      <td>32.5</td>\n",
       "      <td>2015-08-06</td>\n",
       "      <td>11:30:00</td>\n",
       "      <td>1200.000</td>\n",
       "    </tr>\n",
       "    <tr>\n",
       "      <th>4</th>\n",
       "      <td>HPT2_NR_16</td>\n",
       "      <td>1</td>\n",
       "      <td>2015-08-06</td>\n",
       "      <td>12:15:00</td>\n",
       "      <td>600.0</td>\n",
       "      <td>2015-08-06</td>\n",
       "      <td>12:15:00</td>\n",
       "      <td>180.0</td>\n",
       "      <td>2015-08-06</td>\n",
       "      <td>12:15:00</td>\n",
       "      <td>40.0</td>\n",
       "      <td>32.5</td>\n",
       "      <td>2015-08-06</td>\n",
       "      <td>12:15:00</td>\n",
       "      <td>4800.000</td>\n",
       "    </tr>\n",
       "  </tbody>\n",
       "</table>\n",
       "</div>"
      ],
      "text/plain": [
       "       BabyId  FirsttimeParent Crying date Crying time  Crying seconds  \\\n",
       "0  HPT2_NR_16                1  2015-08-05    20:31:47           900.0   \n",
       "1  HPT2_NR_16                1  2015-08-05    23:33:46           600.0   \n",
       "2  HPT2_NR_16                1  2015-08-06    10:20:00           916.0   \n",
       "3  HPT2_NR_16                1  2015-08-06    11:30:00           300.0   \n",
       "4  HPT2_NR_16                1  2015-08-06    12:15:00           600.0   \n",
       "\n",
       "  Feeding date Feeding time  Bottle amount PumpingDate  \\\n",
       "0   2015-08-05     20:31:47          180.0  2015-08-05   \n",
       "1   2015-08-05     23:33:46          180.0  2015-08-05   \n",
       "2   2015-08-06     10:20:00          180.0  2015-08-06   \n",
       "3   2015-08-06     11:30:00           35.0  2015-08-06   \n",
       "4   2015-08-06     12:15:00          180.0  2015-08-06   \n",
       "\n",
       "  PumpingTimePumpingLeftPumpingRight  Pumping Left  PumpingRight SleepingDate  \\\n",
       "0                           20:31:47          40.0          30.0   2015-08-05   \n",
       "1                           23:33:46          50.0          35.0   2015-08-05   \n",
       "2                           10:20:00          40.0          32.5   2015-08-06   \n",
       "3                           11:30:00          40.0          32.5   2015-08-06   \n",
       "4                           12:15:00          40.0          32.5   2015-08-06   \n",
       "\n",
       "  SleepingTime  SleepingSecond  \n",
       "0     20:31:47        5153.979  \n",
       "1     23:33:46       33365.110  \n",
       "2     10:20:00        2100.000  \n",
       "3     11:30:00        1200.000  \n",
       "4     12:15:00        4800.000  "
      ]
     },
     "execution_count": 350,
     "metadata": {
      "tags": []
     },
     "output_type": "execute_result"
    }
   ],
   "source": [
    "cdf.head()"
   ]
  },
  {
   "cell_type": "markdown",
   "metadata": {
    "colab_type": "text",
    "id": "-b2q3XCtKDm5"
   },
   "source": [
    "# 3. Find outliers by drawing a Scatter plot. If there are any, remove it from the dataframe. "
   ]
  },
  {
   "cell_type": "markdown",
   "metadata": {
    "colab_type": "text",
    "id": "8s-fKv0LKDm6"
   },
   "source": [
    "We will be checking for outliers by drawing different charts..We can identiy outliers properly by Boxplot and histogram chart,we would not be able to properly specify outliers by ploting Scatterplot...So we will be using Histogram chart to find the outliers and drop them...."
   ]
  },
  {
   "cell_type": "code",
   "execution_count": 0,
   "metadata": {
    "colab": {},
    "colab_type": "code",
    "id": "Z8_DswzaKDm7",
    "outputId": "ce5fa708-7b99-4e6f-a546-688b5efec96d"
   },
   "outputs": [
    {
     "data": {
      "text/plain": [
       "['FirsttimeParent',\n",
       " 'Crying seconds',\n",
       " 'Bottle amount',\n",
       " 'Pumping Left',\n",
       " 'PumpingRight',\n",
       " 'SleepingSecond']"
      ]
     },
     "execution_count": 351,
     "metadata": {
      "tags": []
     },
     "output_type": "execute_result"
    }
   ],
   "source": [
    "num_cols= ['FirsttimeParent','Crying seconds', 'Bottle amount','Pumping Left',\n",
    "       'PumpingRight', 'SleepingSecond']\n",
    "num_cols"
   ]
  },
  {
   "cell_type": "code",
   "execution_count": 0,
   "metadata": {
    "colab": {},
    "colab_type": "code",
    "id": "gg7qdjXqKDm_",
    "outputId": "da49fdc5-1cc8-4191-fff7-e3dd222368fd"
   },
   "outputs": [
    {
     "data": {
      "image/png": "[encoded data removed]",
      "text/plain": [
       "<Figure size 432x288 with 1 Axes>"
      ]
     },
     "metadata": {
      "needs_background": "light",
      "tags": []
     },
     "output_type": "display_data"
    }
   ],
   "source": [
    "sns.scatterplot(x=\"Crying seconds\",y=\"SleepingSecond\",data=cdf)\n",
    "plt.show()"
   ]
  },
  {
   "cell_type": "code",
   "execution_count": 0,
   "metadata": {
    "colab": {},
    "colab_type": "code",
    "id": "gA7YX5-DKDnE",
    "outputId": "d6ea26ad-b35d-4a68-f831-240a24432f38"
   },
   "outputs": [
    {
     "data": {
      "image/png": "[encoded data removed]",
      "text/plain": [
       "<Figure size 432x288 with 1 Axes>"
      ]
     },
     "metadata": {
      "needs_background": "light",
      "tags": []
     },
     "output_type": "display_data"
    }
   ],
   "source": [
    "sns.scatterplot(x=\"Pumping Left\",y=\"PumpingRight\",data=cdf)\n",
    "plt.show()"
   ]
  },
  {
   "cell_type": "code",
   "execution_count": 0,
   "metadata": {
    "colab": {},
    "colab_type": "code",
    "id": "FFyfbKKoKDnJ",
    "outputId": "ee75c7bb-dba1-409c-ccda-a8acb00b83f5"
   },
   "outputs": [
    {
     "data": {
      "image/png": "[encoded data removed]",
      "text/plain": [
       "<Figure size 432x288 with 1 Axes>"
      ]
     },
     "metadata": {
      "needs_background": "light",
      "tags": []
     },
     "output_type": "display_data"
    }
   ],
   "source": [
    "sns.scatterplot(x=\"Bottle amount\",y=\"SleepingSecond\",data=cdf)\n",
    "plt.show()"
   ]
  },
  {
   "cell_type": "code",
   "execution_count": 0,
   "metadata": {
    "colab": {},
    "colab_type": "code",
    "id": "x7vv61GwKDnR",
    "outputId": "456175e7-f46c-458d-bed8-e8204660c3ca",
    "scrolled": true
   },
   "outputs": [
    {
     "data": {
      "image/png": "[encoded data removed]",
      "text/plain": [
       "<Figure size 432x288 with 1 Axes>"
      ]
     },
     "metadata": {
      "needs_background": "light",
      "tags": []
     },
     "output_type": "display_data"
    },
    {
     "data": {
      "image/png": "[encoded data removed]",
      "text/plain": [
       "<Figure size 432x288 with 1 Axes>"
      ]
     },
     "metadata": {
      "needs_background": "light",
      "tags": []
     },
     "output_type": "display_data"
    },
    {
     "data": {
      "image/png": "[encoded data removed]",
      "text/plain": [
       "<Figure size 432x288 with 1 Axes>"
      ]
     },
     "metadata": {
      "needs_background": "light",
      "tags": []
     },
     "output_type": "display_data"
    },
    {
     "data": {
      "image/png": "[encoded data removed]",
      "text/plain": [
       "<Figure size 432x288 with 1 Axes>"
      ]
     },
     "metadata": {
      "needs_background": "light",
      "tags": []
     },
     "output_type": "display_data"
    },
    {
     "data": {
      "image/png": "[encoded data removed]",
      "text/plain": [
       "<Figure size 432x288 with 1 Axes>"
      ]
     },
     "metadata": {
      "needs_background": "light",
      "tags": []
     },
     "output_type": "display_data"
    },
    {
     "data": {
      "image/png": "[encoded data removed]",
      "text/plain": [
       "<Figure size 432x288 with 1 Axes>"
      ]
     },
     "metadata": {
      "needs_background": "light",
      "tags": []
     },
     "output_type": "display_data"
    }
   ],
   "source": [
    "for i in num_cols:\n",
    "    cdf[i].plot.box()\n",
    "    plt.show()"
   ]
  },
  {
   "cell_type": "code",
   "execution_count": 0,
   "metadata": {
    "colab": {},
    "colab_type": "code",
    "id": "TzjLvR66KDnV",
    "outputId": "bc554dd7-e13e-485e-a126-614749420608"
   },
   "outputs": [
    {
     "data": {
      "image/png": "[encoded data removed]",
      "text/plain": [
       "<Figure size 432x288 with 1 Axes>"
      ]
     },
     "metadata": {
      "needs_background": "light",
      "tags": []
     },
     "output_type": "display_data"
    },
    {
     "data": {
      "image/png": "[encoded data removed]",
      "text/plain": [
       "<Figure size 432x288 with 1 Axes>"
      ]
     },
     "metadata": {
      "needs_background": "light",
      "tags": []
     },
     "output_type": "display_data"
    },
    {
     "data": {
      "image/png": "[encoded data removed]",
      "text/plain": [
       "<Figure size 432x288 with 1 Axes>"
      ]
     },
     "metadata": {
      "needs_background": "light",
      "tags": []
     },
     "output_type": "display_data"
    },
    {
     "data": {
      "image/png": "[encoded data removed]",
      "text/plain": [
       "<Figure size 432x288 with 1 Axes>"
      ]
     },
     "metadata": {
      "needs_background": "light",
      "tags": []
     },
     "output_type": "display_data"
    },
    {
     "data": {
      "image/png": "[encoded data removed]",
      "text/plain": [
       "<Figure size 432x288 with 1 Axes>"
      ]
     },
     "metadata": {
      "needs_background": "light",
      "tags": []
     },
     "output_type": "display_data"
    },
    {
     "data": {
      "image/png": "[encoded data removed]",
      "text/plain": [
       "<Figure size 432x288 with 1 Axes>"
      ]
     },
     "metadata": {
      "needs_background": "light",
      "tags": []
     },
     "output_type": "display_data"
    }
   ],
   "source": [
    "for i in num_cols:\n",
    "    cdf[i].hist()\n",
    "    plt.xlabel(i)\n",
    "    plt.show()"
   ]
  },
  {
   "cell_type": "markdown",
   "metadata": {
    "colab_type": "text",
    "id": "JrWaug5OKDnY"
   },
   "source": [
    "We get to know that there are extreme outliers present in \"SleepingSecond\" and \"Crying seconds\" So we will be droping those values."
   ]
  },
  {
   "cell_type": "code",
   "execution_count": 0,
   "metadata": {
    "colab": {},
    "colab_type": "code",
    "id": "DoLjaTyXKDnZ"
   },
   "outputs": [],
   "source": [
    "df1 = pd.DataFrame(columns=['FirsttimeParent','Crying seconds', 'Bottle amount','Pumping Left',\n",
    "       'PumpingRight', 'SleepingSecond'])"
   ]
  },
  {
   "cell_type": "code",
   "execution_count": 0,
   "metadata": {
    "colab": {},
    "colab_type": "code",
    "id": "Lb1-wA7zKDnf",
    "outputId": "a71fe072-1594-4507-bef2-bac7fbc6c3bf"
   },
   "outputs": [
    {
     "name": "stderr",
     "output_type": "stream",
     "text": [
      "C:\\Users\\HP\\Anaconda3\\lib\\site-packages\\scipy\\stats\\stats.py:2275: RuntimeWarning: Mean of empty slice.\n",
      "  mns = a.mean(axis=axis)\n"
     ]
    },
    {
     "ename": "ZeroDivisionError",
     "evalue": "division by zero",
     "output_type": "error",
     "traceback": [
      "\u001b[1;31m---------------------------------------------------------------------------\u001b[0m",
      "\u001b[1;31mZeroDivisionError\u001b[0m                         Traceback (most recent call last)",
      "\u001b[1;32m<ipython-input-359-d0b9ac641702>\u001b[0m in \u001b[0;36m<module>\u001b[1;34m\u001b[0m\n\u001b[0;32m      1\u001b[0m \u001b[1;32mfrom\u001b[0m \u001b[0mscipy\u001b[0m \u001b[1;32mimport\u001b[0m \u001b[0mstats\u001b[0m\u001b[1;33m\u001b[0m\u001b[1;33m\u001b[0m\u001b[0m\n\u001b[0;32m      2\u001b[0m \u001b[1;32mimport\u001b[0m \u001b[0mnumpy\u001b[0m \u001b[1;32mas\u001b[0m \u001b[0mnp\u001b[0m\u001b[1;33m\u001b[0m\u001b[1;33m\u001b[0m\u001b[0m\n\u001b[1;32m----> 3\u001b[1;33m \u001b[0mz\u001b[0m \u001b[1;33m=\u001b[0m \u001b[0mnp\u001b[0m\u001b[1;33m.\u001b[0m\u001b[0mabs\u001b[0m\u001b[1;33m(\u001b[0m\u001b[0mstats\u001b[0m\u001b[1;33m.\u001b[0m\u001b[0mzscore\u001b[0m\u001b[1;33m(\u001b[0m\u001b[0mdf1\u001b[0m\u001b[1;33m)\u001b[0m\u001b[1;33m)\u001b[0m\u001b[1;33m\u001b[0m\u001b[1;33m\u001b[0m\u001b[0m\n\u001b[0m\u001b[0;32m      4\u001b[0m \u001b[0mprint\u001b[0m\u001b[1;33m(\u001b[0m\u001b[0mz\u001b[0m\u001b[1;33m)\u001b[0m\u001b[1;33m\u001b[0m\u001b[1;33m\u001b[0m\u001b[0m\n",
      "\u001b[1;32m~\\Anaconda3\\lib\\site-packages\\scipy\\stats\\stats.py\u001b[0m in \u001b[0;36mzscore\u001b[1;34m(a, axis, ddof)\u001b[0m\n\u001b[0;32m   2273\u001b[0m     \"\"\"\n\u001b[0;32m   2274\u001b[0m     \u001b[0ma\u001b[0m \u001b[1;33m=\u001b[0m \u001b[0mnp\u001b[0m\u001b[1;33m.\u001b[0m\u001b[0masanyarray\u001b[0m\u001b[1;33m(\u001b[0m\u001b[0ma\u001b[0m\u001b[1;33m)\u001b[0m\u001b[1;33m\u001b[0m\u001b[1;33m\u001b[0m\u001b[0m\n\u001b[1;32m-> 2275\u001b[1;33m     \u001b[0mmns\u001b[0m \u001b[1;33m=\u001b[0m \u001b[0ma\u001b[0m\u001b[1;33m.\u001b[0m\u001b[0mmean\u001b[0m\u001b[1;33m(\u001b[0m\u001b[0maxis\u001b[0m\u001b[1;33m=\u001b[0m\u001b[0maxis\u001b[0m\u001b[1;33m)\u001b[0m\u001b[1;33m\u001b[0m\u001b[1;33m\u001b[0m\u001b[0m\n\u001b[0m\u001b[0;32m   2276\u001b[0m     \u001b[0msstd\u001b[0m \u001b[1;33m=\u001b[0m \u001b[0ma\u001b[0m\u001b[1;33m.\u001b[0m\u001b[0mstd\u001b[0m\u001b[1;33m(\u001b[0m\u001b[0maxis\u001b[0m\u001b[1;33m=\u001b[0m\u001b[0maxis\u001b[0m\u001b[1;33m,\u001b[0m \u001b[0mddof\u001b[0m\u001b[1;33m=\u001b[0m\u001b[0mddof\u001b[0m\u001b[1;33m)\u001b[0m\u001b[1;33m\u001b[0m\u001b[1;33m\u001b[0m\u001b[0m\n\u001b[0;32m   2277\u001b[0m     \u001b[1;32mif\u001b[0m \u001b[0maxis\u001b[0m \u001b[1;32mand\u001b[0m \u001b[0mmns\u001b[0m\u001b[1;33m.\u001b[0m\u001b[0mndim\u001b[0m \u001b[1;33m<\u001b[0m \u001b[0ma\u001b[0m\u001b[1;33m.\u001b[0m\u001b[0mndim\u001b[0m\u001b[1;33m:\u001b[0m\u001b[1;33m\u001b[0m\u001b[1;33m\u001b[0m\u001b[0m\n",
      "\u001b[1;32m~\\Anaconda3\\lib\\site-packages\\numpy\\core\\_methods.py\u001b[0m in \u001b[0;36m_mean\u001b[1;34m(a, axis, dtype, out, keepdims)\u001b[0m\n\u001b[0;32m     76\u001b[0m     \u001b[1;32mif\u001b[0m \u001b[0misinstance\u001b[0m\u001b[1;33m(\u001b[0m\u001b[0mret\u001b[0m\u001b[1;33m,\u001b[0m \u001b[0mmu\u001b[0m\u001b[1;33m.\u001b[0m\u001b[0mndarray\u001b[0m\u001b[1;33m)\u001b[0m\u001b[1;33m:\u001b[0m\u001b[1;33m\u001b[0m\u001b[1;33m\u001b[0m\u001b[0m\n\u001b[0;32m     77\u001b[0m         ret = um.true_divide(\n\u001b[1;32m---> 78\u001b[1;33m                 ret, rcount, out=ret, casting='unsafe', subok=False)\n\u001b[0m\u001b[0;32m     79\u001b[0m         \u001b[1;32mif\u001b[0m \u001b[0mis_float16_result\u001b[0m \u001b[1;32mand\u001b[0m \u001b[0mout\u001b[0m \u001b[1;32mis\u001b[0m \u001b[1;32mNone\u001b[0m\u001b[1;33m:\u001b[0m\u001b[1;33m\u001b[0m\u001b[1;33m\u001b[0m\u001b[0m\n\u001b[0;32m     80\u001b[0m             \u001b[0mret\u001b[0m \u001b[1;33m=\u001b[0m \u001b[0marr\u001b[0m\u001b[1;33m.\u001b[0m\u001b[0mdtype\u001b[0m\u001b[1;33m.\u001b[0m\u001b[0mtype\u001b[0m\u001b[1;33m(\u001b[0m\u001b[0mret\u001b[0m\u001b[1;33m)\u001b[0m\u001b[1;33m\u001b[0m\u001b[1;33m\u001b[0m\u001b[0m\n",
      "\u001b[1;31mZeroDivisionError\u001b[0m: division by zero"
     ]
    }
   ],
   "source": [
    "from scipy import stats\n",
    "import numpy as np\n",
    "z = np.abs(stats.zscore(df1))\n",
    "print(z)"
   ]
  },
  {
   "cell_type": "markdown",
   "metadata": {
    "colab_type": "text",
    "id": "lLhXHb8TKDnj"
   },
   "source": [
    "# 3. Find out the following findings from the data 9\n",
    "1. Find out which baby has cried the most and least.\n",
    "2. Find out which baby has drunk the most amount of milk and which baby the least.\n",
    "3. Check how many first time pregnancies are there."
   ]
  },
  {
   "cell_type": "markdown",
   "metadata": {
    "colab_type": "text",
    "id": "XExHUxgWKDnk"
   },
   "source": [
    "# Machine Learning Modeling\n",
    "\n",
    "4.​ Consider the birth sheet file\n",
    "\n",
    "1. Build a regressor model to find the relation between Mom_weight as an independent variable and Baby_Birth_Weight as the target variable. Also, an appropriate plot depicting their relation and find the intercept of the model. Make a train test split of 80:20(train:test)¶"
   ]
  },
  {
   "cell_type": "code",
   "execution_count": 0,
   "metadata": {
    "colab": {},
    "colab_type": "code",
    "id": "jCdW_R6NKDnm"
   },
   "outputs": [],
   "source": [
    "birth =  pd.read_excel(\"Infant Child Data.xlsx\",'birth')"
   ]
  },
  {
   "cell_type": "code",
   "execution_count": 0,
   "metadata": {
    "colab": {},
    "colab_type": "code",
    "id": "53K5BUxcKDnt",
    "outputId": "989b8470-edce-4e44-e839-61aa164f1c0f"
   },
   "outputs": [
    {
     "data": {
      "text/html": [
       "<div>\n",
       "<style scoped>\n",
       "    .dataframe tbody tr th:only-of-type {\n",
       "        vertical-align: middle;\n",
       "    }\n",
       "\n",
       "    .dataframe tbody tr th {\n",
       "        vertical-align: top;\n",
       "    }\n",
       "\n",
       "    .dataframe thead th {\n",
       "        text-align: right;\n",
       "    }\n",
       "</style>\n",
       "<table border=\"1\" class=\"dataframe\">\n",
       "  <thead>\n",
       "    <tr style=\"text-align: right;\">\n",
       "      <th></th>\n",
       "      <th>Mom_weight</th>\n",
       "      <th>Mom_height</th>\n",
       "      <th>Mom_Age</th>\n",
       "      <th>Religion</th>\n",
       "      <th>Baby_Gender</th>\n",
       "      <th>Baby_Birth_Weight</th>\n",
       "    </tr>\n",
       "  </thead>\n",
       "  <tbody>\n",
       "    <tr>\n",
       "      <th>0</th>\n",
       "      <td>41</td>\n",
       "      <td>152</td>\n",
       "      <td>25</td>\n",
       "      <td>1</td>\n",
       "      <td>1</td>\n",
       "      <td>2.06</td>\n",
       "    </tr>\n",
       "    <tr>\n",
       "      <th>1</th>\n",
       "      <td>42</td>\n",
       "      <td>157</td>\n",
       "      <td>25</td>\n",
       "      <td>3</td>\n",
       "      <td>1</td>\n",
       "      <td>1.70</td>\n",
       "    </tr>\n",
       "    <tr>\n",
       "      <th>2</th>\n",
       "      <td>44</td>\n",
       "      <td>153</td>\n",
       "      <td>23</td>\n",
       "      <td>2</td>\n",
       "      <td>1</td>\n",
       "      <td>1.59</td>\n",
       "    </tr>\n",
       "    <tr>\n",
       "      <th>3</th>\n",
       "      <td>45</td>\n",
       "      <td>177</td>\n",
       "      <td>19</td>\n",
       "      <td>2</td>\n",
       "      <td>1</td>\n",
       "      <td>2.73</td>\n",
       "    </tr>\n",
       "    <tr>\n",
       "      <th>4</th>\n",
       "      <td>46</td>\n",
       "      <td>160</td>\n",
       "      <td>19</td>\n",
       "      <td>2</td>\n",
       "      <td>1</td>\n",
       "      <td>2.08</td>\n",
       "    </tr>\n",
       "  </tbody>\n",
       "</table>\n",
       "</div>"
      ],
      "text/plain": [
       "   Mom_weight  Mom_height  Mom_Age  Religion  Baby_Gender  Baby_Birth_Weight\n",
       "0          41         152       25         1            1               2.06\n",
       "1          42         157       25         3            1               1.70\n",
       "2          44         153       23         2            1               1.59\n",
       "3          45         177       19         2            1               2.73\n",
       "4          46         160       19         2            1               2.08"
      ]
     },
     "execution_count": 361,
     "metadata": {
      "tags": []
     },
     "output_type": "execute_result"
    }
   ],
   "source": [
    "birth.head()"
   ]
  },
  {
   "cell_type": "code",
   "execution_count": 0,
   "metadata": {
    "colab": {},
    "colab_type": "code",
    "id": "S9NGFv_3KDny"
   },
   "outputs": [],
   "source": [
    "x = birth['Mom_weight'].values"
   ]
  },
  {
   "cell_type": "code",
   "execution_count": 0,
   "metadata": {
    "colab": {},
    "colab_type": "code",
    "id": "ARq0jtZwKDn0"
   },
   "outputs": [],
   "source": [
    "y = birth['Baby_Birth_Weight'].values"
   ]
  },
  {
   "cell_type": "markdown",
   "metadata": {
    "colab_type": "text",
    "id": "qjKdp93mKDn5"
   },
   "source": [
    "training and testing the dataset into train test split of 80:20(train:test)"
   ]
  },
  {
   "cell_type": "code",
   "execution_count": 0,
   "metadata": {
    "colab": {},
    "colab_type": "code",
    "id": "fp4sil8ZKDn7"
   },
   "outputs": [],
   "source": [
    "from sklearn.model_selection import train_test_split"
   ]
  },
  {
   "cell_type": "code",
   "execution_count": 0,
   "metadata": {
    "colab": {},
    "colab_type": "code",
    "id": "FFfVDIh6KDn_"
   },
   "outputs": [],
   "source": [
    "x_train,x_test,y_train,y_test = train_test_split(x,y,train_size = 0.8,random_state=0)"
   ]
  },
  {
   "cell_type": "code",
   "execution_count": 0,
   "metadata": {
    "colab": {},
    "colab_type": "code",
    "id": "B4R9EFFQKDoB",
    "outputId": "0f128ec5-a309-4a27-d768-eb5bcece1e43"
   },
   "outputs": [
    {
     "data": {
      "text/plain": [
       "((151,), (38,))"
      ]
     },
     "execution_count": 369,
     "metadata": {
      "tags": []
     },
     "output_type": "execute_result"
    }
   ],
   "source": [
    "x_train.shape , x_test.shape"
   ]
  },
  {
   "cell_type": "code",
   "execution_count": 0,
   "metadata": {
    "colab": {},
    "colab_type": "code",
    "id": "7maRF1taKDoE"
   },
   "outputs": [],
   "source": [
    "from sklearn.linear_model import LinearRegression"
   ]
  },
  {
   "cell_type": "code",
   "execution_count": 0,
   "metadata": {
    "colab": {},
    "colab_type": "code",
    "id": "8vPG79r2KDoG"
   },
   "outputs": [],
   "source": [
    "lr = LinearRegression()"
   ]
  },
  {
   "cell_type": "code",
   "execution_count": 0,
   "metadata": {
    "colab": {},
    "colab_type": "code",
    "id": "v9C5-qgcKDoJ"
   },
   "outputs": [],
   "source": [
    "x_train = x_train.reshape(-1,1)\n",
    "y_train = y_train.reshape(-1,1)\n",
    "x_test = x_test.reshape(-1,1)\n",
    "y_test = y_test.reshape(-1,1)"
   ]
  },
  {
   "cell_type": "code",
   "execution_count": 0,
   "metadata": {
    "colab": {},
    "colab_type": "code",
    "id": "RME5hKcwKDoL",
    "outputId": "cf282c22-55cd-4f4c-f099-759ef2f9d8af"
   },
   "outputs": [
    {
     "data": {
      "text/plain": [
       "LinearRegression(copy_X=True, fit_intercept=True, n_jobs=None, normalize=False)"
      ]
     },
     "execution_count": 378,
     "metadata": {
      "tags": []
     },
     "output_type": "execute_result"
    }
   ],
   "source": [
    "lr.fit(x_train,y_train)"
   ]
  },
  {
   "cell_type": "code",
   "execution_count": 0,
   "metadata": {
    "colab": {},
    "colab_type": "code",
    "id": "mAdRgudyKDoS"
   },
   "outputs": [],
   "source": [
    "y_pred = lr.predict(x_train)"
   ]
  },
  {
   "cell_type": "code",
   "execution_count": 0,
   "metadata": {
    "colab": {},
    "colab_type": "code",
    "id": "8NFQbSkZKDoV",
    "outputId": "49c154a9-2d49-4658-e306-02fb3f38fe97"
   },
   "outputs": [
    {
     "data": {
      "text/plain": [
       "array([[3.62082793],\n",
       "       [2.06228547],\n",
       "       [3.56887651],\n",
       "       [3.41302227],\n",
       "       [3.41302227],\n",
       "       [2.99741094],\n",
       "       [2.99741094],\n",
       "       [3.56887651],\n",
       "       [2.63375104],\n",
       "       [2.68570245],\n",
       "       [1.80252839],\n",
       "       [3.2052166 ],\n",
       "       [2.99741094],\n",
       "       [3.30911944],\n",
       "       [2.47789679],\n",
       "       [2.01033405],\n",
       "       [3.36107085],\n",
       "       [3.2052166 ],\n",
       "       [2.42594537],\n",
       "       [2.37399396],\n",
       "       [3.15326519],\n",
       "       [3.41302227],\n",
       "       [3.5169251 ],\n",
       "       [2.8415567 ],\n",
       "       [3.30911944],\n",
       "       [2.58179962],\n",
       "       [3.5169251 ],\n",
       "       [2.63375104],\n",
       "       [3.30911944],\n",
       "       [3.36107085],\n",
       "       [3.46497368],\n",
       "       [3.46497368],\n",
       "       [2.68570245],\n",
       "       [3.41302227],\n",
       "       [3.56887651],\n",
       "       [3.04936236],\n",
       "       [3.2052166 ],\n",
       "       [3.46497368],\n",
       "       [3.2052166 ],\n",
       "       [1.85447981],\n",
       "       [3.2052166 ],\n",
       "       [3.62082793],\n",
       "       [3.10131377],\n",
       "       [2.89350811],\n",
       "       [2.21813971],\n",
       "       [3.46497368],\n",
       "       [3.30911944],\n",
       "       [3.15326519],\n",
       "       [2.89350811],\n",
       "       [3.41302227],\n",
       "       [2.37399396],\n",
       "       [3.62082793],\n",
       "       [2.1661883 ],\n",
       "       [3.15326519],\n",
       "       [3.15326519],\n",
       "       [2.42594537],\n",
       "       [3.46497368],\n",
       "       [3.2052166 ],\n",
       "       [2.06228547],\n",
       "       [2.89350811],\n",
       "       [3.2052166 ],\n",
       "       [3.10131377],\n",
       "       [3.10131377],\n",
       "       [3.41302227],\n",
       "       [2.27009113],\n",
       "       [2.58179962],\n",
       "       [2.63375104],\n",
       "       [3.04936236],\n",
       "       [3.46497368],\n",
       "       [2.58179962],\n",
       "       [2.37399396],\n",
       "       [3.36107085],\n",
       "       [3.56887651],\n",
       "       [3.15326519],\n",
       "       [3.46497368],\n",
       "       [3.36107085],\n",
       "       [1.90643122],\n",
       "       [3.25716802],\n",
       "       [3.30911944],\n",
       "       [1.95838264],\n",
       "       [3.2052166 ],\n",
       "       [3.30911944],\n",
       "       [3.41302227],\n",
       "       [1.69862556],\n",
       "       [3.36107085],\n",
       "       [2.27009113],\n",
       "       [2.11423688],\n",
       "       [2.68570245],\n",
       "       [2.32204254],\n",
       "       [1.69862556],\n",
       "       [3.41302227],\n",
       "       [2.68570245],\n",
       "       [2.27009113],\n",
       "       [3.36107085],\n",
       "       [3.5169251 ],\n",
       "       [2.73765387],\n",
       "       [3.2052166 ],\n",
       "       [3.2052166 ],\n",
       "       [1.75057697],\n",
       "       [3.36107085],\n",
       "       [2.37399396],\n",
       "       [2.89350811],\n",
       "       [3.56887651],\n",
       "       [3.62082793],\n",
       "       [2.68570245],\n",
       "       [2.47789679],\n",
       "       [2.78960528],\n",
       "       [3.25716802],\n",
       "       [3.15326519],\n",
       "       [2.73765387],\n",
       "       [3.5169251 ],\n",
       "       [2.73765387],\n",
       "       [2.68570245],\n",
       "       [3.67277934],\n",
       "       [2.32204254],\n",
       "       [2.68570245],\n",
       "       [2.5298482 ],\n",
       "       [3.5169251 ],\n",
       "       [2.73765387],\n",
       "       [2.68570245],\n",
       "       [1.80252839],\n",
       "       [2.63375104],\n",
       "       [2.11423688],\n",
       "       [2.68570245],\n",
       "       [3.46497368],\n",
       "       [3.36107085],\n",
       "       [3.36107085],\n",
       "       [3.25716802],\n",
       "       [2.11423688],\n",
       "       [3.15326519],\n",
       "       [3.30911944],\n",
       "       [3.36107085],\n",
       "       [2.63375104],\n",
       "       [2.68570245],\n",
       "       [3.36107085],\n",
       "       [3.10131377],\n",
       "       [3.15326519],\n",
       "       [2.8415567 ],\n",
       "       [3.2052166 ],\n",
       "       [1.69862556],\n",
       "       [3.41302227],\n",
       "       [3.25716802],\n",
       "       [3.41302227],\n",
       "       [2.73765387],\n",
       "       [2.58179962],\n",
       "       [2.11423688],\n",
       "       [3.5169251 ],\n",
       "       [3.2052166 ],\n",
       "       [3.30911944],\n",
       "       [3.04936236],\n",
       "       [2.99741094]])"
      ]
     },
     "execution_count": 380,
     "metadata": {
      "tags": []
     },
     "output_type": "execute_result"
    }
   ],
   "source": [
    "y_pred"
   ]
  },
  {
   "cell_type": "code",
   "execution_count": 0,
   "metadata": {
    "colab": {},
    "colab_type": "code",
    "id": "y8GiWCbaKDoa"
   },
   "outputs": [],
   "source": [
    "y_pred1 = lr.predict(x_test)"
   ]
  },
  {
   "cell_type": "code",
   "execution_count": 0,
   "metadata": {
    "colab": {},
    "colab_type": "code",
    "id": "YYBj7fmLKDoi",
    "outputId": "22fe37a9-26bc-4c6e-aa2b-15ced23ccb85"
   },
   "outputs": [
    {
     "data": {
      "text/plain": [
       "array([[3.56887651],\n",
       "       [3.30911944],\n",
       "       [2.68570245],\n",
       "       [3.46497368],\n",
       "       [3.41302227],\n",
       "       [3.25716802],\n",
       "       [2.47789679],\n",
       "       [3.41302227],\n",
       "       [1.85447981],\n",
       "       [2.01033405],\n",
       "       [1.95838264],\n",
       "       [3.25716802],\n",
       "       [2.5298482 ],\n",
       "       [2.78960528],\n",
       "       [3.2052166 ],\n",
       "       [3.67277934],\n",
       "       [2.73765387],\n",
       "       [3.2052166 ],\n",
       "       [3.30911944],\n",
       "       [3.56887651],\n",
       "       [3.2052166 ],\n",
       "       [3.46497368],\n",
       "       [3.25716802],\n",
       "       [3.15326519],\n",
       "       [2.94545953],\n",
       "       [2.32204254],\n",
       "       [3.2052166 ],\n",
       "       [3.2052166 ],\n",
       "       [3.25716802],\n",
       "       [2.68570245],\n",
       "       [1.95838264],\n",
       "       [3.2052166 ],\n",
       "       [3.46497368],\n",
       "       [2.99741094],\n",
       "       [2.99741094],\n",
       "       [2.63375104],\n",
       "       [3.04936236],\n",
       "       [1.69862556]])"
      ]
     },
     "execution_count": 382,
     "metadata": {
      "tags": []
     },
     "output_type": "execute_result"
    }
   ],
   "source": [
    "y_pred1"
   ]
  },
  {
   "cell_type": "markdown",
   "metadata": {
    "colab_type": "text",
    "id": "6wuVxQnLKDom"
   },
   "source": [
    "# visualizing the training set results¶"
   ]
  },
  {
   "cell_type": "code",
   "execution_count": 0,
   "metadata": {
    "colab": {},
    "colab_type": "code",
    "id": "GAGamln0KDon",
    "outputId": "d3a5dda1-5784-4dad-fbfb-cfec32c3aa04"
   },
   "outputs": [
    {
     "data": {
      "image/png": "[encoded data removed]",
      "text/plain": [
       "<Figure size 432x288 with 1 Axes>"
      ]
     },
     "metadata": {
      "needs_background": "light",
      "tags": []
     },
     "output_type": "display_data"
    }
   ],
   "source": [
    "plt.scatter(x_train,y_train , color ='green')\n",
    "plt.plot(x_train,lr.predict(x_train),color = 'yellow')\n",
    "plt.title('baby birth weight vs mom weights train data')\n",
    "plt.xlabel('mom weights')\n",
    "plt.ylabel('baby birth weight')\n",
    "plt.show()"
   ]
  },
  {
   "cell_type": "code",
   "execution_count": 0,
   "metadata": {
    "colab": {},
    "colab_type": "code",
    "id": "Pa0n1TxJKDor",
    "outputId": "9acef5e6-9dd7-43a1-ae62-741ac228ec13"
   },
   "outputs": [
    {
     "data": {
      "image/png": "[encoded data removed]",
      "text/plain": [
       "<Figure size 432x288 with 1 Axes>"
      ]
     },
     "metadata": {
      "needs_background": "light",
      "tags": []
     },
     "output_type": "display_data"
    }
   ],
   "source": [
    "plt.scatter(x_test,y_test , color ='green')\n",
    "plt.plot(x_test,lr.predict(x_test),color = 'blue')\n",
    "plt.title('baby birth weight vs mom weights test data')\n",
    "plt.xlabel('mom weights')\n",
    "plt.ylabel('baby birth weight')\n",
    "plt.show()"
   ]
  },
  {
   "cell_type": "code",
   "execution_count": 0,
   "metadata": {
    "colab": {},
    "colab_type": "code",
    "id": "ZQ93ksamKDou",
    "outputId": "98d23d35-33fc-43e2-f0ad-4f5624199221"
   },
   "outputs": [
    {
     "data": {
      "text/plain": [
       "(array([-0.43138247]), array([[0.05195142]]))"
      ]
     },
     "execution_count": 385,
     "metadata": {
      "tags": []
     },
     "output_type": "execute_result"
    }
   ],
   "source": [
    "lr.intercept_ , lr.coef_"
   ]
  },
  {
   "cell_type": "code",
   "execution_count": 0,
   "metadata": {
    "colab": {},
    "colab_type": "code",
    "id": "zX-eQHEgKDo0"
   },
   "outputs": [],
   "source": [
    "from sklearn.metrics import r2_score"
   ]
  },
  {
   "cell_type": "code",
   "execution_count": 0,
   "metadata": {
    "colab": {},
    "colab_type": "code",
    "id": "VpI_A5PvKDo6",
    "outputId": "a397fd75-623b-4ba3-f8da-1a079e243d0e"
   },
   "outputs": [
    {
     "data": {
      "text/plain": [
       "0.6342159184160865"
      ]
     },
     "execution_count": 387,
     "metadata": {
      "tags": []
     },
     "output_type": "execute_result"
    }
   ],
   "source": [
    "r2_score(y_train,y_pred)"
   ]
  },
  {
   "cell_type": "code",
   "execution_count": 0,
   "metadata": {
    "colab": {},
    "colab_type": "code",
    "id": "AGS7_joEKDo9",
    "outputId": "16048ba2-76d7-4d58-e5de-af2edee71e5f"
   },
   "outputs": [
    {
     "data": {
      "text/plain": [
       "0.6603999316493241"
      ]
     },
     "execution_count": 388,
     "metadata": {
      "tags": []
     },
     "output_type": "execute_result"
    }
   ],
   "source": [
    "r2_score(y_test,y_pred1)"
   ]
  },
  {
   "cell_type": "markdown",
   "metadata": {
    "colab_type": "text",
    "id": "GWcYUskIKDpA"
   },
   "source": [
    "# 2. Build a Multi Regression Model for predicting target variable mom_age using all the other variables. Make a train test split of 80:20(train:test"
   ]
  },
  {
   "cell_type": "code",
   "execution_count": 0,
   "metadata": {
    "colab": {},
    "colab_type": "code",
    "id": "UrRPl1UTKDpB"
   },
   "outputs": [],
   "source": [
    "x1 = birth.drop('Mom_Age',axis = 1).values"
   ]
  },
  {
   "cell_type": "code",
   "execution_count": 0,
   "metadata": {
    "colab": {},
    "colab_type": "code",
    "id": "NMRbX2HlKDpG"
   },
   "outputs": [],
   "source": [
    "y1 = birth['Mom_Age'].values"
   ]
  },
  {
   "cell_type": "code",
   "execution_count": 0,
   "metadata": {
    "colab": {},
    "colab_type": "code",
    "id": "eu_SUwBQKDpI"
   },
   "outputs": [],
   "source": [
    "from sklearn.model_selection import train_test_split"
   ]
  },
  {
   "cell_type": "code",
   "execution_count": 0,
   "metadata": {
    "colab": {},
    "colab_type": "code",
    "id": "DvMB6MrDKDpM"
   },
   "outputs": [],
   "source": [
    "x1_train,x1_test,y1_train,y1_test = train_test_split(x1,y1,train_size = 0.8,random_state=0)"
   ]
  },
  {
   "cell_type": "code",
   "execution_count": 0,
   "metadata": {
    "colab": {},
    "colab_type": "code",
    "id": "8VsXWTEjKDpO",
    "outputId": "e64a6ecc-cae5-44d9-8c8c-f0f8a8eb91bb"
   },
   "outputs": [
    {
     "data": {
      "text/plain": [
       "((151, 5), (38, 5))"
      ]
     },
     "execution_count": 393,
     "metadata": {
      "tags": []
     },
     "output_type": "execute_result"
    }
   ],
   "source": [
    "x1_train.shape , x1_test.shape"
   ]
  },
  {
   "cell_type": "code",
   "execution_count": 0,
   "metadata": {
    "colab": {},
    "colab_type": "code",
    "id": "wYo2dhTnKDpR"
   },
   "outputs": [],
   "source": [
    "from sklearn.linear_model import LinearRegression"
   ]
  },
  {
   "cell_type": "code",
   "execution_count": 0,
   "metadata": {
    "colab": {},
    "colab_type": "code",
    "id": "jpo5O-cpKDpU"
   },
   "outputs": [],
   "source": [
    "mlr = LinearRegression()"
   ]
  },
  {
   "cell_type": "code",
   "execution_count": 0,
   "metadata": {
    "colab": {},
    "colab_type": "code",
    "id": "S0I8B-A6KDpW",
    "outputId": "860678d8-433b-469c-a6b2-c014216d477f"
   },
   "outputs": [
    {
     "data": {
      "text/plain": [
       "LinearRegression(copy_X=True, fit_intercept=True, n_jobs=None, normalize=False)"
      ]
     },
     "execution_count": 398,
     "metadata": {
      "tags": []
     },
     "output_type": "execute_result"
    }
   ],
   "source": [
    "mlr.fit(x1_train,y1_train)"
   ]
  },
  {
   "cell_type": "code",
   "execution_count": 0,
   "metadata": {
    "colab": {},
    "colab_type": "code",
    "id": "SVUVenmXKDpY"
   },
   "outputs": [],
   "source": [
    "y1_pred = mlr.predict(x1_train)"
   ]
  },
  {
   "cell_type": "code",
   "execution_count": 0,
   "metadata": {
    "colab": {},
    "colab_type": "code",
    "id": "-18R_dWKKDpb",
    "outputId": "3d9c27be-a81c-4d56-ff5c-824a88d7d0b7"
   },
   "outputs": [
    {
     "data": {
      "text/plain": [
       "array([24.26393346, 22.27416929, 23.67659213, 23.11840471, 23.43442445,\n",
       "       23.77006251, 24.10563405, 22.65474124, 23.21267732, 22.57191013,\n",
       "       22.4509514 , 23.35367969, 22.79767643, 23.38779109, 22.20705137,\n",
       "       22.75351645, 23.14613382, 23.66194701, 23.15524476, 22.39996459,\n",
       "       23.58634827, 23.32937408, 23.52661882, 22.88092155, 23.16021398,\n",
       "       22.86230616, 22.98687982, 23.58614486, 23.77556382, 23.42939393,\n",
       "       22.92548884, 23.86847502, 22.48419643, 22.93520383, 23.77188813,\n",
       "       23.02820024, 23.9889849 , 23.33703251, 22.98383919, 21.86456668,\n",
       "       23.16004699, 23.967246  , 24.03950977, 22.56748088, 22.50054639,\n",
       "       23.87360587, 22.76863488, 22.83296051, 24.00418632, 23.22990409,\n",
       "       23.49374412, 23.18916718, 22.63078329, 23.27018883, 23.84138405,\n",
       "       23.26142843, 22.54847881, 23.155372  , 22.74302106, 22.96991089,\n",
       "       22.83712239, 23.28576359, 23.32683446, 23.54370029, 22.40791767,\n",
       "       23.5480753 , 22.67285009, 23.8181511 , 23.95460589, 23.137859  ,\n",
       "       22.79454764, 23.46497265, 24.03459444, 22.88818765, 23.35504663,\n",
       "       23.09726745, 21.64214505, 23.92167953, 23.286274  , 21.68362293,\n",
       "       22.61526536, 23.07067478, 23.48153154, 21.85894717, 23.47568387,\n",
       "       22.66522846, 22.53036854, 23.14527452, 22.08440648, 21.52124321,\n",
       "       22.84594404, 23.51266356, 22.05596632, 23.44932176, 23.14239411,\n",
       "       23.25423132, 23.50361362, 22.88854318, 21.5034964 , 23.58854447,\n",
       "       23.2622062 , 22.97067657, 23.93653083, 23.48463312, 23.29992018,\n",
       "       22.95789945, 22.7758318 , 23.80279192, 23.12075591, 23.33999167,\n",
       "       23.15260433, 23.23517212, 22.6447901 , 23.2116226 , 22.505334  ,\n",
       "       22.99507039, 23.16158767, 23.33371506, 23.64284873, 22.74484932,\n",
       "       22.17127605, 23.29993228, 22.96432825, 22.83098019, 23.10423633,\n",
       "       23.05024858, 23.52215025, 23.53873071, 22.96931939, 23.31978412,\n",
       "       23.22074842, 23.4276714 , 22.87296854, 23.0112194 , 23.43520222,\n",
       "       23.34107896, 22.89839787, 23.25693798, 23.43981056, 22.30411911,\n",
       "       23.18384208, 23.01759505, 23.17526617, 23.04965947, 22.81575155,\n",
       "       21.89579226, 23.1258746 , 22.76438213, 23.40358167, 22.61042915,\n",
       "       23.74954545])"
      ]
     },
     "execution_count": 400,
     "metadata": {
      "tags": []
     },
     "output_type": "execute_result"
    }
   ],
   "source": [
    "y1_pred"
   ]
  },
  {
   "cell_type": "code",
   "execution_count": 0,
   "metadata": {
    "colab": {},
    "colab_type": "code",
    "id": "HSGyo3SeKDpf"
   },
   "outputs": [],
   "source": [
    "y2_pred1 = mlr.predict(x1_test)"
   ]
  },
  {
   "cell_type": "code",
   "execution_count": 0,
   "metadata": {
    "colab": {},
    "colab_type": "code",
    "id": "jLAMf2-kKDpm",
    "outputId": "48cd4e00-5092-4840-e0b3-005ec4496b12"
   },
   "outputs": [
    {
     "data": {
      "text/plain": [
       "array([23.55837908, 22.90958012, 23.4531742 , 23.88508276, 23.2151071 ,\n",
       "       23.05571346, 22.69151174, 22.99497259, 22.54546963, 21.90461397,\n",
       "       22.15792458, 24.49690903, 23.48577895, 23.31116601, 24.04303359,\n",
       "       23.86086538, 22.37922219, 22.97616866, 23.05411853, 23.81663199,\n",
       "       23.40110293, 22.83690651, 23.13471787, 24.25224105, 23.90420321,\n",
       "       22.89442489, 22.79324718, 23.56414806, 22.38890608, 22.52240306,\n",
       "       21.82425202, 23.24640579, 23.77839809, 23.5014689 , 23.44365059,\n",
       "       22.58666774, 24.08888924, 21.94172121])"
      ]
     },
     "execution_count": 404,
     "metadata": {
      "tags": []
     },
     "output_type": "execute_result"
    }
   ],
   "source": [
    "y2_pred1"
   ]
  },
  {
   "cell_type": "code",
   "execution_count": 0,
   "metadata": {
    "colab": {},
    "colab_type": "code",
    "id": "T-NcGlTaKDpp",
    "outputId": "d52fd0db-9e76-4e22-a8b3-8ebeb4a17047"
   },
   "outputs": [
    {
     "data": {
      "text/plain": [
       "(16.507327461616736,\n",
       " array([ 0.07545903,  0.0190592 , -0.21350905,  0.60144902, -0.66254516]))"
      ]
     },
     "execution_count": 405,
     "metadata": {
      "tags": []
     },
     "output_type": "execute_result"
    }
   ],
   "source": [
    "mlr.intercept_ , mlr.coef_"
   ]
  },
  {
   "cell_type": "code",
   "execution_count": 0,
   "metadata": {
    "colab": {},
    "colab_type": "code",
    "id": "rFN52KizKDpt"
   },
   "outputs": [],
   "source": [
    "from sklearn.metrics import r2_score"
   ]
  },
  {
   "cell_type": "code",
   "execution_count": 0,
   "metadata": {
    "colab": {},
    "colab_type": "code",
    "id": "y81_gBlZKDpv",
    "outputId": "07215212-7681-4aa2-c5d0-f424971e34b2"
   },
   "outputs": [
    {
     "data": {
      "text/plain": [
       "0.009922774449270477"
      ]
     },
     "execution_count": 407,
     "metadata": {
      "tags": []
     },
     "output_type": "execute_result"
    }
   ],
   "source": [
    "r2_score(y1_train,y1_pred)"
   ]
  },
  {
   "cell_type": "code",
   "execution_count": 0,
   "metadata": {
    "colab": {},
    "colab_type": "code",
    "id": "nYqWY6GuKDpx",
    "outputId": "647d4b73-a2b0-41d0-d575-104593503c2b"
   },
   "outputs": [
    {
     "data": {
      "text/plain": [
       "-0.009808649980569406"
      ]
     },
     "execution_count": 408,
     "metadata": {
      "tags": []
     },
     "output_type": "execute_result"
    }
   ],
   "source": [
    "r2_score(y1_test,y2_pred1)"
   ]
  },
  {
   "cell_type": "code",
   "execution_count": 0,
   "metadata": {
    "colab": {},
    "colab_type": "code",
    "id": "wtIV09yiKDp0"
   },
   "outputs": [],
   "source": []
  }
 ],
 "metadata": {
  "colab": {
   "name": "ShubhamPalande_DSAugBatch  - Shubham Palande.ipynb",
   "provenance": []
  },
  "kernelspec": {
   "display_name": "Python 3",
   "language": "python",
   "name": "python3"
  },
  "language_info": {
   "codemirror_mode": {
    "name": "ipython",
    "version": 3
   },
   "file_extension": ".py",
   "mimetype": "text/x-python",
   "name": "python",
   "nbconvert_exporter": "python",
   "pygments_lexer": "ipython3",
   "version": "3.7.6"
  }
 },
 "nbformat": 4,
 "nbformat_minor": 1
}
